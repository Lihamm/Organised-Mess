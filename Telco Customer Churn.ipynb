{
 "cells": [
  {
   "cell_type": "markdown",
   "id": "db40b643",
   "metadata": {},
   "source": [
    "## Project Aim"
   ]
  },
  {
   "cell_type": "markdown",
   "id": "b3b74ead",
   "metadata": {},
   "source": [
    "The purpose of this project is to build a model to predict customer churn. This notebook will be used to outline the project and will be used to perform EDA on the data. \n",
    "Then, once the data is clean and I am satisfied with the quality of the data, it will be saved and uploaded to datarobot. DataRobot will then be used to identify the best and most apropriate machine learning model to accurately predict customer churn."
   ]
  },
  {
   "cell_type": "markdown",
   "id": "90a0fb57",
   "metadata": {},
   "source": [
    "### Business Purpose\n",
    "The business provides services to customers e.g. phone, multiple lines, internet, online security, online backup, device protection, tech support, and streaming TV and movies\n",
    "\n",
    "### Business Goal\n",
    "The Business Goal of this project is to identify the features which influence customer churn, use ML modeles to predict the likelihood of a customer churn and idenetify ways to decrease customer churn.\n",
    "\n",
    "### Customer Churn\n",
    "This is is the loss of clients or customers"
   ]
  },
  {
   "cell_type": "markdown",
   "id": "22465001",
   "metadata": {},
   "source": [
    "### Data Dictionary"
   ]
  },
  {
   "cell_type": "markdown",
   "id": "bb068a95",
   "metadata": {},
   "source": [
    "| FieldName | Data Type | Description|\n",
    "|:- | :-: | :- |\n",
    "|CustomerID|object|Unique number used to identify each customer|\n",
    "|gender|object|Whether the customer is a male or a female|\n",
    "|SeniorCitizen|int64 |Whether the customer is a senior citizen or not (1, 0)|\n",
    "|Partner|object|Whether the customer has a partner or not (Yes, No)|\n",
    "|Dependents|object|Whether the customer has dependents or not (Yes, No)|\n",
    "|tenure|int64 |Number of months the customer has stayed with the company|\n",
    "|PhoneService|object|Whether the customer has a phone service or not (Yes, No)|\n",
    "|MultipleLines|object|Whether the customer has multiple lines or not (Yes, No, No phone service)|\n",
    "|InternetService|object|Customer’s internet service provider (DSL, Fiber optic, No)|\n",
    "|OnlineSecurity|object|Whether the customer has online security or not (Yes, No, No internet service)|\n",
    "|OnlineBackup|object|Whether the customer has online backup or not (Yes, No, No internet service)|\n",
    "|DeviceProtection|object |Whether the customer has device protection or not (Yes, No, No internet service)|\n",
    "|TechSupport|object|Whether the customer has tech support or not (Yes, No, No internet service)|\n",
    "|StreamingTV|object|Whether the customer has streaming TV or not (Yes, No, No internet service)|\n",
    "|StreamingMovies|object|Whether the customer has streaming movies or not (Yes, No, No internet service)|\n",
    "|Contract|object|The contract term of the customer (Month-to-month, One year, Two year)|\n",
    "|PaperlessBilling|object|Whether the customer has paperless billing or not (Yes, No)|\n",
    "|PaymentMethod|object|The customer’s payment method (Electronic check, Mailed check, Bank transfer (automatic), Credit card (automatic))|\n",
    "|MonthlyCharges|float64|The amount charged to the customer monthly|\n",
    "|TotalCharges|object|The total amount charged to the customer|\n",
    "|Churn|object|Whether the customer churned or not (Yes or No)|"
   ]
  },
  {
   "cell_type": "markdown",
   "id": "d6dfe4bb",
   "metadata": {},
   "source": [
    "The first thing to do is to read the data and understand the data. To do this we must also import necessary libraries."
   ]
  },
  {
   "cell_type": "code",
   "execution_count": 19,
   "id": "c58e784c",
   "metadata": {},
   "outputs": [],
   "source": [
    "import pandas as pd\n",
    "import numpy as np\n",
    "import matplotlib.pyplot as plt\n",
    "import seaborn as sns"
   ]
  },
  {
   "cell_type": "code",
   "execution_count": 20,
   "id": "c71f0fe8",
   "metadata": {},
   "outputs": [],
   "source": [
    "df = pd.read_csv(\"C:/Users/Liam/Documents/DataRobot/Personal Project/Churn/dataset/Telco-Customer-Churn.csv\")"
   ]
  },
  {
   "cell_type": "markdown",
   "id": "88e6e6be",
   "metadata": {},
   "source": [
    "## Explorative Data Analysis"
   ]
  },
  {
   "cell_type": "markdown",
   "id": "f466565f",
   "metadata": {},
   "source": [
    "Now that we have the dataset into this notebook we can perform EDA on the data."
   ]
  },
  {
   "cell_type": "code",
   "execution_count": 21,
   "id": "aa0e75a2",
   "metadata": {},
   "outputs": [
    {
     "data": {
      "text/html": [
       "<div>\n",
       "<style scoped>\n",
       "    .dataframe tbody tr th:only-of-type {\n",
       "        vertical-align: middle;\n",
       "    }\n",
       "\n",
       "    .dataframe tbody tr th {\n",
       "        vertical-align: top;\n",
       "    }\n",
       "\n",
       "    .dataframe thead th {\n",
       "        text-align: right;\n",
       "    }\n",
       "</style>\n",
       "<table border=\"1\" class=\"dataframe\">\n",
       "  <thead>\n",
       "    <tr style=\"text-align: right;\">\n",
       "      <th></th>\n",
       "      <th>customerID</th>\n",
       "      <th>gender</th>\n",
       "      <th>SeniorCitizen</th>\n",
       "      <th>Partner</th>\n",
       "      <th>Dependents</th>\n",
       "      <th>tenure</th>\n",
       "      <th>PhoneService</th>\n",
       "      <th>MultipleLines</th>\n",
       "      <th>InternetService</th>\n",
       "      <th>OnlineSecurity</th>\n",
       "      <th>...</th>\n",
       "      <th>DeviceProtection</th>\n",
       "      <th>TechSupport</th>\n",
       "      <th>StreamingTV</th>\n",
       "      <th>StreamingMovies</th>\n",
       "      <th>Contract</th>\n",
       "      <th>PaperlessBilling</th>\n",
       "      <th>PaymentMethod</th>\n",
       "      <th>MonthlyCharges</th>\n",
       "      <th>TotalCharges</th>\n",
       "      <th>Churn</th>\n",
       "    </tr>\n",
       "  </thead>\n",
       "  <tbody>\n",
       "    <tr>\n",
       "      <th>0</th>\n",
       "      <td>7590-VHVEG</td>\n",
       "      <td>Female</td>\n",
       "      <td>0</td>\n",
       "      <td>Yes</td>\n",
       "      <td>No</td>\n",
       "      <td>1</td>\n",
       "      <td>No</td>\n",
       "      <td>No phone service</td>\n",
       "      <td>DSL</td>\n",
       "      <td>No</td>\n",
       "      <td>...</td>\n",
       "      <td>No</td>\n",
       "      <td>No</td>\n",
       "      <td>No</td>\n",
       "      <td>No</td>\n",
       "      <td>Month-to-month</td>\n",
       "      <td>Yes</td>\n",
       "      <td>Electronic check</td>\n",
       "      <td>29.85</td>\n",
       "      <td>29.85</td>\n",
       "      <td>No</td>\n",
       "    </tr>\n",
       "    <tr>\n",
       "      <th>1</th>\n",
       "      <td>5575-GNVDE</td>\n",
       "      <td>Male</td>\n",
       "      <td>0</td>\n",
       "      <td>No</td>\n",
       "      <td>No</td>\n",
       "      <td>34</td>\n",
       "      <td>Yes</td>\n",
       "      <td>No</td>\n",
       "      <td>DSL</td>\n",
       "      <td>Yes</td>\n",
       "      <td>...</td>\n",
       "      <td>Yes</td>\n",
       "      <td>No</td>\n",
       "      <td>No</td>\n",
       "      <td>No</td>\n",
       "      <td>One year</td>\n",
       "      <td>No</td>\n",
       "      <td>Mailed check</td>\n",
       "      <td>56.95</td>\n",
       "      <td>1889.5</td>\n",
       "      <td>No</td>\n",
       "    </tr>\n",
       "    <tr>\n",
       "      <th>2</th>\n",
       "      <td>3668-QPYBK</td>\n",
       "      <td>Male</td>\n",
       "      <td>0</td>\n",
       "      <td>No</td>\n",
       "      <td>No</td>\n",
       "      <td>2</td>\n",
       "      <td>Yes</td>\n",
       "      <td>No</td>\n",
       "      <td>DSL</td>\n",
       "      <td>Yes</td>\n",
       "      <td>...</td>\n",
       "      <td>No</td>\n",
       "      <td>No</td>\n",
       "      <td>No</td>\n",
       "      <td>No</td>\n",
       "      <td>Month-to-month</td>\n",
       "      <td>Yes</td>\n",
       "      <td>Mailed check</td>\n",
       "      <td>53.85</td>\n",
       "      <td>108.15</td>\n",
       "      <td>Yes</td>\n",
       "    </tr>\n",
       "    <tr>\n",
       "      <th>3</th>\n",
       "      <td>7795-CFOCW</td>\n",
       "      <td>Male</td>\n",
       "      <td>0</td>\n",
       "      <td>No</td>\n",
       "      <td>No</td>\n",
       "      <td>45</td>\n",
       "      <td>No</td>\n",
       "      <td>No phone service</td>\n",
       "      <td>DSL</td>\n",
       "      <td>Yes</td>\n",
       "      <td>...</td>\n",
       "      <td>Yes</td>\n",
       "      <td>Yes</td>\n",
       "      <td>No</td>\n",
       "      <td>No</td>\n",
       "      <td>One year</td>\n",
       "      <td>No</td>\n",
       "      <td>Bank transfer (automatic)</td>\n",
       "      <td>42.30</td>\n",
       "      <td>1840.75</td>\n",
       "      <td>No</td>\n",
       "    </tr>\n",
       "    <tr>\n",
       "      <th>4</th>\n",
       "      <td>9237-HQITU</td>\n",
       "      <td>Female</td>\n",
       "      <td>0</td>\n",
       "      <td>No</td>\n",
       "      <td>No</td>\n",
       "      <td>2</td>\n",
       "      <td>Yes</td>\n",
       "      <td>No</td>\n",
       "      <td>Fiber optic</td>\n",
       "      <td>No</td>\n",
       "      <td>...</td>\n",
       "      <td>No</td>\n",
       "      <td>No</td>\n",
       "      <td>No</td>\n",
       "      <td>No</td>\n",
       "      <td>Month-to-month</td>\n",
       "      <td>Yes</td>\n",
       "      <td>Electronic check</td>\n",
       "      <td>70.70</td>\n",
       "      <td>151.65</td>\n",
       "      <td>Yes</td>\n",
       "    </tr>\n",
       "  </tbody>\n",
       "</table>\n",
       "<p>5 rows × 21 columns</p>\n",
       "</div>"
      ],
      "text/plain": [
       "   customerID  gender  SeniorCitizen Partner Dependents  tenure PhoneService  \\\n",
       "0  7590-VHVEG  Female              0     Yes         No       1           No   \n",
       "1  5575-GNVDE    Male              0      No         No      34          Yes   \n",
       "2  3668-QPYBK    Male              0      No         No       2          Yes   \n",
       "3  7795-CFOCW    Male              0      No         No      45           No   \n",
       "4  9237-HQITU  Female              0      No         No       2          Yes   \n",
       "\n",
       "      MultipleLines InternetService OnlineSecurity  ... DeviceProtection  \\\n",
       "0  No phone service             DSL             No  ...               No   \n",
       "1                No             DSL            Yes  ...              Yes   \n",
       "2                No             DSL            Yes  ...               No   \n",
       "3  No phone service             DSL            Yes  ...              Yes   \n",
       "4                No     Fiber optic             No  ...               No   \n",
       "\n",
       "  TechSupport StreamingTV StreamingMovies        Contract PaperlessBilling  \\\n",
       "0          No          No              No  Month-to-month              Yes   \n",
       "1          No          No              No        One year               No   \n",
       "2          No          No              No  Month-to-month              Yes   \n",
       "3         Yes          No              No        One year               No   \n",
       "4          No          No              No  Month-to-month              Yes   \n",
       "\n",
       "               PaymentMethod MonthlyCharges  TotalCharges Churn  \n",
       "0           Electronic check          29.85         29.85    No  \n",
       "1               Mailed check          56.95        1889.5    No  \n",
       "2               Mailed check          53.85        108.15   Yes  \n",
       "3  Bank transfer (automatic)          42.30       1840.75    No  \n",
       "4           Electronic check          70.70        151.65   Yes  \n",
       "\n",
       "[5 rows x 21 columns]"
      ]
     },
     "execution_count": 21,
     "metadata": {},
     "output_type": "execute_result"
    }
   ],
   "source": [
    "df.head()"
   ]
  },
  {
   "cell_type": "code",
   "execution_count": 22,
   "id": "5a0d470d",
   "metadata": {},
   "outputs": [
    {
     "data": {
      "text/plain": [
       "(7043, 21)"
      ]
     },
     "execution_count": 22,
     "metadata": {},
     "output_type": "execute_result"
    }
   ],
   "source": [
    "df.shape"
   ]
  },
  {
   "cell_type": "code",
   "execution_count": 23,
   "id": "d857b8ed",
   "metadata": {},
   "outputs": [
    {
     "name": "stdout",
     "output_type": "stream",
     "text": [
      "<class 'pandas.core.frame.DataFrame'>\n",
      "RangeIndex: 7043 entries, 0 to 7042\n",
      "Data columns (total 21 columns):\n",
      " #   Column            Non-Null Count  Dtype  \n",
      "---  ------            --------------  -----  \n",
      " 0   customerID        7043 non-null   object \n",
      " 1   gender            7043 non-null   object \n",
      " 2   SeniorCitizen     7043 non-null   int64  \n",
      " 3   Partner           7043 non-null   object \n",
      " 4   Dependents        7043 non-null   object \n",
      " 5   tenure            7043 non-null   int64  \n",
      " 6   PhoneService      7043 non-null   object \n",
      " 7   MultipleLines     7043 non-null   object \n",
      " 8   InternetService   7043 non-null   object \n",
      " 9   OnlineSecurity    7043 non-null   object \n",
      " 10  OnlineBackup      7043 non-null   object \n",
      " 11  DeviceProtection  7043 non-null   object \n",
      " 12  TechSupport       7043 non-null   object \n",
      " 13  StreamingTV       7043 non-null   object \n",
      " 14  StreamingMovies   7043 non-null   object \n",
      " 15  Contract          7043 non-null   object \n",
      " 16  PaperlessBilling  7043 non-null   object \n",
      " 17  PaymentMethod     7043 non-null   object \n",
      " 18  MonthlyCharges    7043 non-null   float64\n",
      " 19  TotalCharges      7043 non-null   object \n",
      " 20  Churn             7043 non-null   object \n",
      "dtypes: float64(1), int64(2), object(18)\n",
      "memory usage: 1.1+ MB\n"
     ]
    }
   ],
   "source": [
    "df.info()"
   ]
  },
  {
   "cell_type": "code",
   "execution_count": 24,
   "id": "c580c79b",
   "metadata": {},
   "outputs": [
    {
     "data": {
      "text/plain": [
       "Index(['customerID', 'gender', 'SeniorCitizen', 'Partner', 'Dependents',\n",
       "       'tenure', 'PhoneService', 'MultipleLines', 'InternetService',\n",
       "       'OnlineSecurity', 'OnlineBackup', 'DeviceProtection', 'TechSupport',\n",
       "       'StreamingTV', 'StreamingMovies', 'Contract', 'PaperlessBilling',\n",
       "       'PaymentMethod', 'MonthlyCharges', 'TotalCharges', 'Churn'],\n",
       "      dtype='object')"
      ]
     },
     "execution_count": 24,
     "metadata": {},
     "output_type": "execute_result"
    }
   ],
   "source": [
    "df.columns"
   ]
  },
  {
   "cell_type": "code",
   "execution_count": 25,
   "id": "73eff3d6",
   "metadata": {},
   "outputs": [
    {
     "data": {
      "text/plain": [
       "customerID          0\n",
       "gender              0\n",
       "SeniorCitizen       0\n",
       "Partner             0\n",
       "Dependents          0\n",
       "tenure              0\n",
       "PhoneService        0\n",
       "MultipleLines       0\n",
       "InternetService     0\n",
       "OnlineSecurity      0\n",
       "OnlineBackup        0\n",
       "DeviceProtection    0\n",
       "TechSupport         0\n",
       "StreamingTV         0\n",
       "StreamingMovies     0\n",
       "Contract            0\n",
       "PaperlessBilling    0\n",
       "PaymentMethod       0\n",
       "MonthlyCharges      0\n",
       "TotalCharges        0\n",
       "Churn               0\n",
       "dtype: int64"
      ]
     },
     "execution_count": 25,
     "metadata": {},
     "output_type": "execute_result"
    }
   ],
   "source": [
    "df.isna().sum() # there are no null values"
   ]
  },
  {
   "cell_type": "code",
   "execution_count": 26,
   "id": "6e87b898",
   "metadata": {},
   "outputs": [
    {
     "data": {
      "text/plain": [
       "<bound method IndexOpsMixin.value_counts of 0       7590-VHVEG\n",
       "1       5575-GNVDE\n",
       "2       3668-QPYBK\n",
       "3       7795-CFOCW\n",
       "4       9237-HQITU\n",
       "           ...    \n",
       "7038    6840-RESVB\n",
       "7039    2234-XADUH\n",
       "7040    4801-JZAZL\n",
       "7041    8361-LTMKD\n",
       "7042    3186-AJIEK\n",
       "Name: customerID, Length: 7043, dtype: object>"
      ]
     },
     "execution_count": 26,
     "metadata": {},
     "output_type": "execute_result"
    }
   ],
   "source": [
    "df['customerID'].value_counts # no duplicates"
   ]
  },
  {
   "cell_type": "code",
   "execution_count": 27,
   "id": "75c98235",
   "metadata": {},
   "outputs": [
    {
     "data": {
      "text/html": [
       "<div>\n",
       "<style scoped>\n",
       "    .dataframe tbody tr th:only-of-type {\n",
       "        vertical-align: middle;\n",
       "    }\n",
       "\n",
       "    .dataframe tbody tr th {\n",
       "        vertical-align: top;\n",
       "    }\n",
       "\n",
       "    .dataframe thead th {\n",
       "        text-align: right;\n",
       "    }\n",
       "</style>\n",
       "<table border=\"1\" class=\"dataframe\">\n",
       "  <thead>\n",
       "    <tr style=\"text-align: right;\">\n",
       "      <th></th>\n",
       "      <th>SeniorCitizen</th>\n",
       "      <th>tenure</th>\n",
       "      <th>MonthlyCharges</th>\n",
       "    </tr>\n",
       "  </thead>\n",
       "  <tbody>\n",
       "    <tr>\n",
       "      <th>SeniorCitizen</th>\n",
       "      <td>1.000000</td>\n",
       "      <td>0.016567</td>\n",
       "      <td>0.220173</td>\n",
       "    </tr>\n",
       "    <tr>\n",
       "      <th>tenure</th>\n",
       "      <td>0.016567</td>\n",
       "      <td>1.000000</td>\n",
       "      <td>0.247900</td>\n",
       "    </tr>\n",
       "    <tr>\n",
       "      <th>MonthlyCharges</th>\n",
       "      <td>0.220173</td>\n",
       "      <td>0.247900</td>\n",
       "      <td>1.000000</td>\n",
       "    </tr>\n",
       "  </tbody>\n",
       "</table>\n",
       "</div>"
      ],
      "text/plain": [
       "                SeniorCitizen    tenure  MonthlyCharges\n",
       "SeniorCitizen        1.000000  0.016567        0.220173\n",
       "tenure               0.016567  1.000000        0.247900\n",
       "MonthlyCharges       0.220173  0.247900        1.000000"
      ]
     },
     "execution_count": 27,
     "metadata": {},
     "output_type": "execute_result"
    }
   ],
   "source": [
    "df.corr()"
   ]
  },
  {
   "cell_type": "code",
   "execution_count": 28,
   "id": "2fcfe8c7",
   "metadata": {},
   "outputs": [
    {
     "data": {
      "text/html": [
       "<div>\n",
       "<style scoped>\n",
       "    .dataframe tbody tr th:only-of-type {\n",
       "        vertical-align: middle;\n",
       "    }\n",
       "\n",
       "    .dataframe tbody tr th {\n",
       "        vertical-align: top;\n",
       "    }\n",
       "\n",
       "    .dataframe thead th {\n",
       "        text-align: right;\n",
       "    }\n",
       "</style>\n",
       "<table border=\"1\" class=\"dataframe\">\n",
       "  <thead>\n",
       "    <tr style=\"text-align: right;\">\n",
       "      <th></th>\n",
       "      <th>count</th>\n",
       "      <th>mean</th>\n",
       "      <th>std</th>\n",
       "      <th>min</th>\n",
       "      <th>25%</th>\n",
       "      <th>50%</th>\n",
       "      <th>75%</th>\n",
       "      <th>max</th>\n",
       "    </tr>\n",
       "  </thead>\n",
       "  <tbody>\n",
       "    <tr>\n",
       "      <th>SeniorCitizen</th>\n",
       "      <td>7043.0</td>\n",
       "      <td>0.162147</td>\n",
       "      <td>0.368612</td>\n",
       "      <td>0.00</td>\n",
       "      <td>0.0</td>\n",
       "      <td>0.00</td>\n",
       "      <td>0.00</td>\n",
       "      <td>1.00</td>\n",
       "    </tr>\n",
       "    <tr>\n",
       "      <th>tenure</th>\n",
       "      <td>7043.0</td>\n",
       "      <td>32.371149</td>\n",
       "      <td>24.559481</td>\n",
       "      <td>0.00</td>\n",
       "      <td>9.0</td>\n",
       "      <td>29.00</td>\n",
       "      <td>55.00</td>\n",
       "      <td>72.00</td>\n",
       "    </tr>\n",
       "    <tr>\n",
       "      <th>MonthlyCharges</th>\n",
       "      <td>7043.0</td>\n",
       "      <td>64.761692</td>\n",
       "      <td>30.090047</td>\n",
       "      <td>18.25</td>\n",
       "      <td>35.5</td>\n",
       "      <td>70.35</td>\n",
       "      <td>89.85</td>\n",
       "      <td>118.75</td>\n",
       "    </tr>\n",
       "  </tbody>\n",
       "</table>\n",
       "</div>"
      ],
      "text/plain": [
       "                 count       mean        std    min   25%    50%    75%  \\\n",
       "SeniorCitizen   7043.0   0.162147   0.368612   0.00   0.0   0.00   0.00   \n",
       "tenure          7043.0  32.371149  24.559481   0.00   9.0  29.00  55.00   \n",
       "MonthlyCharges  7043.0  64.761692  30.090047  18.25  35.5  70.35  89.85   \n",
       "\n",
       "                   max  \n",
       "SeniorCitizen     1.00  \n",
       "tenure           72.00  \n",
       "MonthlyCharges  118.75  "
      ]
     },
     "execution_count": 28,
     "metadata": {},
     "output_type": "execute_result"
    }
   ],
   "source": [
    "df.describe().transpose() # this only works for columns with numeric Dtype"
   ]
  },
  {
   "cell_type": "markdown",
   "id": "bf88942b",
   "metadata": {},
   "source": [
    "## Data Visualisation"
   ]
  },
  {
   "cell_type": "markdown",
   "id": "b24d4cc9",
   "metadata": {},
   "source": [
    "Now we will visualise the data to make it easier to see insights and to better understand the data."
   ]
  },
  {
   "cell_type": "markdown",
   "id": "49c4b69d",
   "metadata": {},
   "source": [
    "#### Gender"
   ]
  },
  {
   "cell_type": "code",
   "execution_count": 29,
   "id": "b02e0cb4",
   "metadata": {},
   "outputs": [
    {
     "data": {
      "image/png": "[encoded data removed]",
      "text/plain": [
       "<Figure size 432x288 with 1 Axes>"
      ]
     },
     "metadata": {},
     "output_type": "display_data"
    }
   ],
   "source": [
    "sns.set_theme(style=\"darkgrid\")\n",
    "sns.countplot(x = df['gender'], hue=df['Churn']).set(title='Gender Feature Churn')\n",
    "plt.ylabel(\"\")\n",
    "plt.xlabel(\"\")\n",
    "None"
   ]
  },
  {
   "cell_type": "code",
   "execution_count": 30,
   "id": "d856c93a",
   "metadata": {},
   "outputs": [
    {
     "data": {
      "text/plain": [
       "No     2625\n",
       "Yes     930\n",
       "Name: Churn, dtype: int64"
      ]
     },
     "execution_count": 30,
     "metadata": {},
     "output_type": "execute_result"
    }
   ],
   "source": [
    "#Male\n",
    "df_M = df[df['gender'] == 'Male']\n",
    "df_M['Churn'].value_counts()"
   ]
  },
  {
   "cell_type": "code",
   "execution_count": 31,
   "id": "dcc16cc0",
   "metadata": {},
   "outputs": [
    {
     "data": {
      "text/plain": [
       "No     2549\n",
       "Yes     939\n",
       "Name: Churn, dtype: int64"
      ]
     },
     "execution_count": 31,
     "metadata": {},
     "output_type": "execute_result"
    }
   ],
   "source": [
    "#Female\n",
    "df_F = df[df['gender'] == 'Female']\n",
    "df_F['Churn'].value_counts()"
   ]
  },
  {
   "cell_type": "code",
   "execution_count": 32,
   "id": "bb4ce90d",
   "metadata": {},
   "outputs": [
    {
     "name": "stdout",
     "output_type": "stream",
     "text": [
      "Male Customer Churn = 26.16%\n",
      "Female Customer Churn = 26.92%\n"
     ]
    }
   ],
   "source": [
    "# Percentage Churn\n",
    "# male\n",
    "mn = 2625 # male not churn\n",
    "my = 930 # male churn\n",
    "mt = 3555 # male total in df\n",
    "mc = round((my/mt)*100, 2) # male churn %\n",
    "print(f\"Male Customer Churn = {mc}%\")\n",
    "# female\n",
    "fn = 2549\n",
    "fy = 939 \n",
    "ft = 3488\n",
    "fc =  round((fy/ft)*100, 2)\n",
    "print(f\"Female Customer Churn = {fc}%\")"
   ]
  },
  {
   "cell_type": "markdown",
   "id": "d767cff1",
   "metadata": {},
   "source": [
    "#### Senior Citizen"
   ]
  },
  {
   "cell_type": "code",
   "execution_count": 33,
   "id": "9db704d1",
   "metadata": {},
   "outputs": [
    {
     "data": {
      "image/png": "[encoded data removed]",
      "text/plain": [
       "<Figure size 432x288 with 1 Axes>"
      ]
     },
     "metadata": {},
     "output_type": "display_data"
    }
   ],
   "source": [
    "sns.set_theme(style=\"darkgrid\")\n",
    "sns.countplot(x = df['SeniorCitizen'], hue=df['Churn']).set(title='Senior Citizen Feature Churn')\n",
    "plt.ylabel(\"\")\n",
    "plt.xlabel(\"\")\n",
    "None\n",
    "# 1 is senior citizen, 0 is not"
   ]
  },
  {
   "cell_type": "code",
   "execution_count": 34,
   "id": "a9ff84fb",
   "metadata": {},
   "outputs": [
    {
     "data": {
      "text/plain": [
       "No     4508\n",
       "Yes    1393\n",
       "Name: Churn, dtype: int64"
      ]
     },
     "execution_count": 34,
     "metadata": {},
     "output_type": "execute_result"
    }
   ],
   "source": [
    "#Not\n",
    "df_NSC = df[df['SeniorCitizen'] == 0]\n",
    "df_NSC['Churn'].value_counts()"
   ]
  },
  {
   "cell_type": "code",
   "execution_count": 35,
   "id": "36d9115c",
   "metadata": {},
   "outputs": [
    {
     "data": {
      "text/plain": [
       "No     666\n",
       "Yes    476\n",
       "Name: Churn, dtype: int64"
      ]
     },
     "execution_count": 35,
     "metadata": {},
     "output_type": "execute_result"
    }
   ],
   "source": [
    "#SeniorC\n",
    "df_SC = df[df['SeniorCitizen'] == 1]\n",
    "df_SC['Churn'].value_counts()"
   ]
  },
  {
   "cell_type": "code",
   "execution_count": 36,
   "id": "8d9113ad",
   "metadata": {},
   "outputs": [
    {
     "name": "stdout",
     "output_type": "stream",
     "text": [
      "Non-Senior Customer Churn = 23.61%\n",
      "Senior Citizen Customer Churn = 41.68%\n"
     ]
    }
   ],
   "source": [
    "# Percentage Churn\n",
    "# not\n",
    "nScn = 4508\n",
    "nScy = 1393\n",
    "nSnt = nScn + nScy\n",
    "nScc = round((nScy/nSnt)*100, 2)\n",
    "print(f\"Non-Senior Customer Churn = {nScc}%\")\n",
    "# Senior\n",
    "Scn = 666\n",
    "Scy = 476 \n",
    "Sct = Scn + Scy\n",
    "Scc =  round((Scy/Sct)*100, 2)\n",
    "print(f\"Senior Citizen Customer Churn = {Scc}%\")"
   ]
  },
  {
   "cell_type": "markdown",
   "id": "ed5944b1",
   "metadata": {},
   "source": [
    "#### Partner"
   ]
  },
  {
   "cell_type": "code",
   "execution_count": 37,
   "id": "7b9b9b80",
   "metadata": {},
   "outputs": [
    {
     "data": {
      "image/png": "[encoded data removed]",
      "text/plain": [
       "<Figure size 432x288 with 1 Axes>"
      ]
     },
     "metadata": {},
     "output_type": "display_data"
    }
   ],
   "source": [
    "sns.set_theme(style=\"darkgrid\")\n",
    "sns.countplot(x = df['Partner'], hue=df['Churn']).set(title='Partner Feature Churn')\n",
    "plt.ylabel(\"\")\n",
    "plt.xlabel(\"\")\n",
    "None"
   ]
  },
  {
   "cell_type": "code",
   "execution_count": 38,
   "id": "74d39e6b",
   "metadata": {},
   "outputs": [
    {
     "data": {
      "text/plain": [
       "No     2441\n",
       "Yes    1200\n",
       "Name: Churn, dtype: int64"
      ]
     },
     "execution_count": 38,
     "metadata": {},
     "output_type": "execute_result"
    }
   ],
   "source": [
    "#No Partner\n",
    "df_NP = df[df['Partner'] == 'No']\n",
    "df_NP['Churn'].value_counts()"
   ]
  },
  {
   "cell_type": "code",
   "execution_count": 39,
   "id": "b27c1bc2",
   "metadata": {},
   "outputs": [
    {
     "data": {
      "text/plain": [
       "No     2733\n",
       "Yes     669\n",
       "Name: Churn, dtype: int64"
      ]
     },
     "execution_count": 39,
     "metadata": {},
     "output_type": "execute_result"
    }
   ],
   "source": [
    "#Partner\n",
    "df_P = df[df['Partner'] == 'Yes']\n",
    "df_P['Churn'].value_counts()"
   ]
  },
  {
   "cell_type": "code",
   "execution_count": 40,
   "id": "f5175d83",
   "metadata": {},
   "outputs": [
    {
     "name": "stdout",
     "output_type": "stream",
     "text": [
      "Customers without Partners Churn = 32.96%\n",
      "Customers with Partners Churn = 19.66%\n"
     ]
    }
   ],
   "source": [
    "# Percentage Churn\n",
    "# no partner\n",
    "npn = 2441\n",
    "npy = 1200\n",
    "npt = npn + npy\n",
    "npc = round((npy/npt)*100, 2)\n",
    "print(f\"Customers without Partners Churn = {npc}%\")\n",
    "# Partner\n",
    "pn = 2733\n",
    "py = 669 \n",
    "pt = pn + py\n",
    "pc =  round((py/pt)*100, 2)\n",
    "print(f\"Customers with Partners Churn = {pc}%\")"
   ]
  },
  {
   "cell_type": "markdown",
   "id": "38662ec2",
   "metadata": {},
   "source": [
    "#### Dependents"
   ]
  },
  {
   "cell_type": "code",
   "execution_count": 41,
   "id": "89a44d61",
   "metadata": {
    "scrolled": true
   },
   "outputs": [
    {
     "data": {
      "image/png": "[encoded data removed]",
      "text/plain": [
       "<Figure size 432x288 with 1 Axes>"
      ]
     },
     "metadata": {},
     "output_type": "display_data"
    }
   ],
   "source": [
    "sns.set_theme(style=\"darkgrid\")\n",
    "sns.countplot(x = df['Dependents'], hue=df['Churn']).set(title='Dependents Feature Churn')\n",
    "plt.ylabel(\"\")\n",
    "plt.xlabel(\"\")\n",
    "None"
   ]
  },
  {
   "cell_type": "code",
   "execution_count": 42,
   "id": "83c2fad6",
   "metadata": {},
   "outputs": [
    {
     "data": {
      "text/plain": [
       "No     3390\n",
       "Yes    1543\n",
       "Name: Churn, dtype: int64"
      ]
     },
     "execution_count": 42,
     "metadata": {},
     "output_type": "execute_result"
    }
   ],
   "source": [
    "#No Dependents\n",
    "df_ND = df[df['Dependents'] == 'No']\n",
    "df_ND['Churn'].value_counts()"
   ]
  },
  {
   "cell_type": "code",
   "execution_count": 43,
   "id": "45e1b544",
   "metadata": {},
   "outputs": [
    {
     "data": {
      "text/plain": [
       "No     1784\n",
       "Yes     326\n",
       "Name: Churn, dtype: int64"
      ]
     },
     "execution_count": 43,
     "metadata": {},
     "output_type": "execute_result"
    }
   ],
   "source": [
    "#Dependents\n",
    "df_D = df[df['Dependents'] == 'Yes']\n",
    "df_D['Churn'].value_counts()"
   ]
  },
  {
   "cell_type": "code",
   "execution_count": 44,
   "id": "c8f7e651",
   "metadata": {},
   "outputs": [
    {
     "name": "stdout",
     "output_type": "stream",
     "text": [
      "Customers without Dependents Churn = 31.28%\n",
      "Customers with Partners Churn = 15.45%\n"
     ]
    }
   ],
   "source": [
    "# Percentage Churn\n",
    "# no dependents\n",
    "ndn = 3390\n",
    "ndy = 1543\n",
    "ndt = ndn + ndy\n",
    "ndc = round((ndy/ndt)*100, 2)\n",
    "print(f\"Customers without Dependents Churn = {ndc}%\")\n",
    "# With Dependents\n",
    "dn = 1784\n",
    "dy = 326 \n",
    "dt = dn + dy\n",
    "dc =  round((dy/dt)*100, 2)\n",
    "print(f\"Customers with Partners Churn = {dc}%\")"
   ]
  },
  {
   "cell_type": "markdown",
   "id": "c7727c2c",
   "metadata": {},
   "source": [
    "#### Phone Service"
   ]
  },
  {
   "cell_type": "code",
   "execution_count": 45,
   "id": "b85f640b",
   "metadata": {},
   "outputs": [
    {
     "data": {
      "image/png": "[encoded data removed]",
      "text/plain": [
       "<Figure size 432x288 with 1 Axes>"
      ]
     },
     "metadata": {},
     "output_type": "display_data"
    }
   ],
   "source": [
    "sns.set_theme(style=\"darkgrid\")\n",
    "sns.countplot(x = df['PhoneService'], hue=df['Churn']).set(title='Phone Service Feature Churn')\n",
    "plt.ylabel(\"\")\n",
    "plt.xlabel(\"\")\n",
    "None"
   ]
  },
  {
   "cell_type": "code",
   "execution_count": 46,
   "id": "d8ab802e",
   "metadata": {},
   "outputs": [
    {
     "data": {
      "text/plain": [
       "No     512\n",
       "Yes    170\n",
       "Name: Churn, dtype: int64"
      ]
     },
     "execution_count": 46,
     "metadata": {},
     "output_type": "execute_result"
    }
   ],
   "source": [
    "#No P.Service\n",
    "df_NPS = df[df['PhoneService'] == 'No']\n",
    "df_NPS['Churn'].value_counts()"
   ]
  },
  {
   "cell_type": "code",
   "execution_count": 47,
   "id": "337dfa6d",
   "metadata": {},
   "outputs": [
    {
     "data": {
      "text/plain": [
       "No     4662\n",
       "Yes    1699\n",
       "Name: Churn, dtype: int64"
      ]
     },
     "execution_count": 47,
     "metadata": {},
     "output_type": "execute_result"
    }
   ],
   "source": [
    "#P.Service\n",
    "df_PS = df[df['PhoneService'] == 'Yes']\n",
    "df_PS['Churn'].value_counts()"
   ]
  },
  {
   "cell_type": "code",
   "execution_count": 48,
   "id": "efbd3a92",
   "metadata": {},
   "outputs": [
    {
     "name": "stdout",
     "output_type": "stream",
     "text": [
      "Customers without Phone Service Churn = 24.93%\n",
      "Customers with Phone Service Churn = 26.71%\n"
     ]
    }
   ],
   "source": [
    "# Percentage Churn\n",
    "# no phone service\n",
    "psn = 512\n",
    "psy = 170\n",
    "pst = psn + psy\n",
    "psc = round((psy/pst)*100, 2)\n",
    "print(f\"Customers without Phone Service Churn = {psc}%\")\n",
    "# With phone service\n",
    "dn = 4662\n",
    "dy = 1699 \n",
    "dt = dn + dy\n",
    "dc =  round((dy/dt)*100, 2)\n",
    "print(f\"Customers with Phone Service Churn = {dc}%\")"
   ]
  },
  {
   "cell_type": "markdown",
   "id": "bb0e30ad",
   "metadata": {},
   "source": [
    "#### Multiple Lines"
   ]
  },
  {
   "cell_type": "code",
   "execution_count": 49,
   "id": "e5af3104",
   "metadata": {},
   "outputs": [
    {
     "data": {
      "image/png": "[encoded data removed]",
      "text/plain": [
       "<Figure size 432x288 with 1 Axes>"
      ]
     },
     "metadata": {},
     "output_type": "display_data"
    }
   ],
   "source": [
    "sns.set_theme(style=\"darkgrid\")\n",
    "sns.countplot(x = df['MultipleLines'], hue=df['Churn']).set(title='Multiple Lines Feature Churn')\n",
    "plt.ylabel(\"\")\n",
    "plt.xlabel(\"\")\n",
    "None"
   ]
  },
  {
   "cell_type": "code",
   "execution_count": 50,
   "id": "e0460ad5",
   "metadata": {},
   "outputs": [
    {
     "data": {
      "text/plain": [
       "No     512\n",
       "Yes    170\n",
       "Name: Churn, dtype: int64"
      ]
     },
     "execution_count": 50,
     "metadata": {},
     "output_type": "execute_result"
    }
   ],
   "source": [
    "#No P.Service #2 *this is repeated throughout this so the number is consistent in all features\n",
    "df_NPS2 = df[df['MultipleLines'] == 'No phone service']\n",
    "df_NPS2['Churn'].value_counts()"
   ]
  },
  {
   "cell_type": "code",
   "execution_count": 51,
   "id": "5e30a213",
   "metadata": {},
   "outputs": [
    {
     "data": {
      "text/plain": [
       "No     2541\n",
       "Yes     849\n",
       "Name: Churn, dtype: int64"
      ]
     },
     "execution_count": 51,
     "metadata": {},
     "output_type": "execute_result"
    }
   ],
   "source": [
    "#No M.lines\n",
    "df_NMls = df[df['MultipleLines'] == 'No']\n",
    "df_NMls['Churn'].value_counts()"
   ]
  },
  {
   "cell_type": "code",
   "execution_count": 52,
   "id": "a8a63c2e",
   "metadata": {},
   "outputs": [
    {
     "data": {
      "text/plain": [
       "No     2121\n",
       "Yes     850\n",
       "Name: Churn, dtype: int64"
      ]
     },
     "execution_count": 52,
     "metadata": {},
     "output_type": "execute_result"
    }
   ],
   "source": [
    "#M.lines\n",
    "df_Mls = df[df['MultipleLines'] == 'Yes']\n",
    "df_Mls['Churn'].value_counts()"
   ]
  },
  {
   "cell_type": "code",
   "execution_count": 53,
   "id": "70a080bf",
   "metadata": {},
   "outputs": [
    {
     "name": "stdout",
     "output_type": "stream",
     "text": [
      "Customers without Phone Service Churn = 24.93%\n",
      "Customers without Multiple Lines Churn = 25.04%\n",
      "Customers with Multiple Lines Churn = 28.61%\n"
     ]
    }
   ],
   "source": [
    "# Percentage Churn\n",
    "# no phone service - using the first calculation as it is consistent\n",
    "psn = 512\n",
    "psy = 170\n",
    "pst = psn + psy\n",
    "psc = round((psy/pst)*100, 2)\n",
    "print(f\"Customers without Phone Service Churn = {psc}%\")\n",
    "# No multiple lines\n",
    "nmln = 2541\n",
    "nmly = 849 \n",
    "nmlt = nmln + nmly\n",
    "nmlc =  round((nmly/nmlt)*100, 2)\n",
    "print(f\"Customers without Multiple Lines Churn = {nmlc}%\")\n",
    "# With multiple lines\n",
    "mln = 2121\n",
    "mly = 850 \n",
    "mlt = mln + mly\n",
    "mlc =  round((mly/mlt)*100, 2)\n",
    "print(f\"Customers with Multiple Lines Churn = {mlc}%\")"
   ]
  },
  {
   "cell_type": "markdown",
   "id": "18648a21",
   "metadata": {},
   "source": [
    "#### Internet Service"
   ]
  },
  {
   "cell_type": "code",
   "execution_count": 54,
   "id": "18b71bed",
   "metadata": {},
   "outputs": [
    {
     "data": {
      "image/png": "[encoded data removed]",
      "text/plain": [
       "<Figure size 432x288 with 1 Axes>"
      ]
     },
     "metadata": {},
     "output_type": "display_data"
    }
   ],
   "source": [
    "sns.set_theme(style=\"darkgrid\")\n",
    "sns.countplot(x = df['InternetService'], hue=df['Churn']).set(title='Internet Service Feature Churn')\n",
    "plt.ylabel(\"\")\n",
    "plt.xlabel(\"\")\n",
    "None"
   ]
  },
  {
   "cell_type": "code",
   "execution_count": 55,
   "id": "7682fdda",
   "metadata": {},
   "outputs": [
    {
     "data": {
      "text/plain": [
       "No     1962\n",
       "Yes     459\n",
       "Name: Churn, dtype: int64"
      ]
     },
     "execution_count": 55,
     "metadata": {},
     "output_type": "execute_result"
    }
   ],
   "source": [
    "#DSL\n",
    "df_DSL = df[df['InternetService'] == 'DSL']\n",
    "df_DSL['Churn'].value_counts()"
   ]
  },
  {
   "cell_type": "code",
   "execution_count": 56,
   "id": "72fc266b",
   "metadata": {},
   "outputs": [
    {
     "data": {
      "text/plain": [
       "No     1799\n",
       "Yes    1297\n",
       "Name: Churn, dtype: int64"
      ]
     },
     "execution_count": 56,
     "metadata": {},
     "output_type": "execute_result"
    }
   ],
   "source": [
    "#F.Optic\n",
    "df_FOL = df[df['InternetService'] == 'Fiber optic']\n",
    "df_FOL['Churn'].value_counts()"
   ]
  },
  {
   "cell_type": "code",
   "execution_count": 57,
   "id": "348e51c3",
   "metadata": {},
   "outputs": [
    {
     "data": {
      "text/plain": [
       "No     1413\n",
       "Yes     113\n",
       "Name: Churn, dtype: int64"
      ]
     },
     "execution_count": 57,
     "metadata": {},
     "output_type": "execute_result"
    }
   ],
   "source": [
    "#No I.Service\n",
    "df_NIS = df[df['InternetService'] == 'No']\n",
    "df_NIS['Churn'].value_counts()"
   ]
  },
  {
   "cell_type": "code",
   "execution_count": 58,
   "id": "35a409ce",
   "metadata": {},
   "outputs": [
    {
     "name": "stdout",
     "output_type": "stream",
     "text": [
      "Customers with DSL Churn = 18.96%\n",
      "Customers with Fiber Optic Churn = 41.89%\n",
      "Customers with no Internet Service Churn = 7.4%\n"
     ]
    }
   ],
   "source": [
    "# Percentage Churn\n",
    "# DSL\n",
    "dsln = 1962\n",
    "dsly = 459\n",
    "dslt = dsln + dsly\n",
    "dslc = round((dsly/dslt)*100, 2)\n",
    "print(f\"Customers with DSL Churn = {dslc}%\")\n",
    "# Fibre Optic\n",
    "fon = 1799\n",
    "foy = 1297 \n",
    "fot = fon + foy\n",
    "foc =  round((foy/fot)*100, 2)\n",
    "print(f\"Customers with Fiber Optic Churn = {foc}%\")\n",
    "# No internet service\n",
    "nisn = 1413\n",
    "nisy = 113 \n",
    "nist = nisn + nisy\n",
    "nisc =  round((nisy/nist)*100, 2)\n",
    "print(f\"Customers with no Internet Service Churn = {nisc}%\")"
   ]
  },
  {
   "cell_type": "markdown",
   "id": "8aa5e4a2",
   "metadata": {},
   "source": [
    "#### Online Security"
   ]
  },
  {
   "cell_type": "code",
   "execution_count": 59,
   "id": "9593d683",
   "metadata": {},
   "outputs": [
    {
     "data": {
      "image/png": "[encoded data removed]",
      "text/plain": [
       "<Figure size 432x288 with 1 Axes>"
      ]
     },
     "metadata": {},
     "output_type": "display_data"
    }
   ],
   "source": [
    "sns.set_theme(style=\"darkgrid\")\n",
    "sns.countplot(x = df['OnlineSecurity'], hue=df['Churn']).set(title='Online Security Feature Churn')\n",
    "plt.ylabel(\"\")\n",
    "plt.xlabel(\"\")\n",
    "None"
   ]
  },
  {
   "cell_type": "code",
   "execution_count": 60,
   "id": "68e21d0a",
   "metadata": {},
   "outputs": [
    {
     "data": {
      "text/plain": [
       "No     2037\n",
       "Yes    1461\n",
       "Name: Churn, dtype: int64"
      ]
     },
     "execution_count": 60,
     "metadata": {},
     "output_type": "execute_result"
    }
   ],
   "source": [
    "#No O.Security\n",
    "df_NOS = df[df['OnlineSecurity'] == 'No']\n",
    "df_NOS['Churn'].value_counts()"
   ]
  },
  {
   "cell_type": "code",
   "execution_count": 61,
   "id": "6b11b873",
   "metadata": {},
   "outputs": [
    {
     "data": {
      "text/plain": [
       "No     1724\n",
       "Yes     295\n",
       "Name: Churn, dtype: int64"
      ]
     },
     "execution_count": 61,
     "metadata": {},
     "output_type": "execute_result"
    }
   ],
   "source": [
    "#O.Security\n",
    "df_OS = df[df['OnlineSecurity'] == 'Yes']\n",
    "df_OS['Churn'].value_counts()"
   ]
  },
  {
   "cell_type": "code",
   "execution_count": 62,
   "id": "4cc255c6",
   "metadata": {},
   "outputs": [
    {
     "data": {
      "text/plain": [
       "No     1413\n",
       "Yes     113\n",
       "Name: Churn, dtype: int64"
      ]
     },
     "execution_count": 62,
     "metadata": {},
     "output_type": "execute_result"
    }
   ],
   "source": [
    "#No I.Service #2\n",
    "df_NIS2 = df[df['OnlineSecurity'] == 'No internet service']\n",
    "df_NIS2['Churn'].value_counts()"
   ]
  },
  {
   "cell_type": "code",
   "execution_count": 63,
   "id": "5a983c30",
   "metadata": {},
   "outputs": [
    {
     "name": "stdout",
     "output_type": "stream",
     "text": [
      "Customers with DSL Churn = 41.77%\n",
      "Customers with Online Security Churn = 14.61%\n",
      "Customers with no Internet Service Churn = 7.4%\n"
     ]
    }
   ],
   "source": [
    "# Percentage Churn\n",
    "# No Online Security\n",
    "nosn = 2037\n",
    "nosy = 1461\n",
    "nost = nosn + nosy\n",
    "nosc = round((nosy/nost)*100, 2)\n",
    "print(f\"Customers with DSL Churn = {nosc}%\")\n",
    "# With Online Security\n",
    "osn = 1724\n",
    "osy = 295 \n",
    "ost = osn + osy\n",
    "osc =  round((osy/ost)*100, 2)\n",
    "print(f\"Customers with Online Security Churn = {osc}%\")\n",
    "# No internet service\n",
    "nisn = 1413\n",
    "nisy = 113 \n",
    "nist = nisn + nisy\n",
    "nisc =  round((nisy/nist)*100, 2)\n",
    "print(f\"Customers with no Internet Service Churn = {nisc}%\")"
   ]
  },
  {
   "cell_type": "markdown",
   "id": "e3a7bcfe",
   "metadata": {},
   "source": [
    "#### Online Backup"
   ]
  },
  {
   "cell_type": "code",
   "execution_count": 64,
   "id": "9dbf0bf7",
   "metadata": {},
   "outputs": [
    {
     "data": {
      "image/png": "[encoded data removed]",
      "text/plain": [
       "<Figure size 432x288 with 1 Axes>"
      ]
     },
     "metadata": {},
     "output_type": "display_data"
    }
   ],
   "source": [
    "sns.set_theme(style=\"darkgrid\")\n",
    "sns.countplot(x = df['OnlineBackup'], hue=df['Churn']).set(title='Online Backup Feature Churn')\n",
    "plt.ylabel(\"\")\n",
    "plt.xlabel(\"\")\n",
    "None"
   ]
  },
  {
   "cell_type": "code",
   "execution_count": 65,
   "id": "555293a2",
   "metadata": {},
   "outputs": [
    {
     "data": {
      "text/plain": [
       "No     1906\n",
       "Yes     523\n",
       "Name: Churn, dtype: int64"
      ]
     },
     "execution_count": 65,
     "metadata": {},
     "output_type": "execute_result"
    }
   ],
   "source": [
    "#O.B\n",
    "df_OB = df[df['OnlineBackup'] == 'Yes']\n",
    "df_OB['Churn'].value_counts()"
   ]
  },
  {
   "cell_type": "code",
   "execution_count": 66,
   "id": "4048e32e",
   "metadata": {},
   "outputs": [
    {
     "data": {
      "text/plain": [
       "No     1855\n",
       "Yes    1233\n",
       "Name: Churn, dtype: int64"
      ]
     },
     "execution_count": 66,
     "metadata": {},
     "output_type": "execute_result"
    }
   ],
   "source": [
    "#NO.B\n",
    "df_NOB = df[df['OnlineBackup'] == 'No']\n",
    "df_NOB['Churn'].value_counts()"
   ]
  },
  {
   "cell_type": "code",
   "execution_count": 67,
   "id": "bb734500",
   "metadata": {},
   "outputs": [
    {
     "data": {
      "text/plain": [
       "No     1413\n",
       "Yes     113\n",
       "Name: Churn, dtype: int64"
      ]
     },
     "execution_count": 67,
     "metadata": {},
     "output_type": "execute_result"
    }
   ],
   "source": [
    "#No IS #3\n",
    "df_NIS3 = df[df['OnlineBackup'] == 'No internet service']\n",
    "df_NIS3['Churn'].value_counts()"
   ]
  },
  {
   "cell_type": "code",
   "execution_count": 68,
   "id": "ffa96cc1",
   "metadata": {},
   "outputs": [
    {
     "name": "stdout",
     "output_type": "stream",
     "text": [
      "Customers with Online Backup Churn = 21.53%\n",
      "Customers without Online Backup Churn = 39.93%\n",
      "Customers with no Internet Service Churn = 7.4%\n"
     ]
    }
   ],
   "source": [
    "# Percentage Churn\n",
    "# With Online Backup\n",
    "obn = 1906\n",
    "oby = 523\n",
    "obt = obn + oby\n",
    "obc = round((oby/obt)*100, 2)\n",
    "print(f\"Customers with Online Backup Churn = {obc}%\")\n",
    "# Without Online Backup\n",
    "wobn = 1855\n",
    "woby = 1233 \n",
    "wobt = wobn + woby\n",
    "wobc =  round((woby/wobt)*100, 2)\n",
    "print(f\"Customers without Online Backup Churn = {wobc}%\")\n",
    "# No internet service\n",
    "nisn = 1413\n",
    "nisy = 113 \n",
    "nist = nisn + nisy\n",
    "nisc =  round((nisy/nist)*100, 2)\n",
    "print(f\"Customers with no Internet Service Churn = {nisc}%\")"
   ]
  },
  {
   "cell_type": "markdown",
   "id": "89925482",
   "metadata": {},
   "source": [
    "#### Device Protection"
   ]
  },
  {
   "cell_type": "code",
   "execution_count": 69,
   "id": "3d39622e",
   "metadata": {},
   "outputs": [
    {
     "data": {
      "image/png": "[encoded data removed]",
      "text/plain": [
       "<Figure size 432x288 with 1 Axes>"
      ]
     },
     "metadata": {},
     "output_type": "display_data"
    }
   ],
   "source": [
    "sns.set_theme(style=\"darkgrid\")\n",
    "sns.countplot(x = df['DeviceProtection'], hue=df['Churn']).set(title='Device Protection Feature Churn')\n",
    "plt.ylabel(\"\")\n",
    "plt.xlabel(\"\")\n",
    "None"
   ]
  },
  {
   "cell_type": "code",
   "execution_count": 70,
   "id": "aed1c272",
   "metadata": {},
   "outputs": [
    {
     "data": {
      "text/plain": [
       "No     1884\n",
       "Yes    1211\n",
       "Name: Churn, dtype: int64"
      ]
     },
     "execution_count": 70,
     "metadata": {},
     "output_type": "execute_result"
    }
   ],
   "source": [
    "#No D.Protection\n",
    "df_NDP = df[df['DeviceProtection'] == 'No']\n",
    "df_NDP['Churn'].value_counts()"
   ]
  },
  {
   "cell_type": "code",
   "execution_count": 71,
   "id": "07b2e512",
   "metadata": {},
   "outputs": [
    {
     "data": {
      "text/plain": [
       "No     1877\n",
       "Yes     545\n",
       "Name: Churn, dtype: int64"
      ]
     },
     "execution_count": 71,
     "metadata": {},
     "output_type": "execute_result"
    }
   ],
   "source": [
    "#D.Protection\n",
    "df_DP = df[df['DeviceProtection'] == 'Yes']\n",
    "df_DP['Churn'].value_counts()"
   ]
  },
  {
   "cell_type": "code",
   "execution_count": 72,
   "id": "2d5ee6bd",
   "metadata": {},
   "outputs": [
    {
     "data": {
      "text/plain": [
       "No     1413\n",
       "Yes     113\n",
       "Name: Churn, dtype: int64"
      ]
     },
     "execution_count": 72,
     "metadata": {},
     "output_type": "execute_result"
    }
   ],
   "source": [
    "#No IS #4\n",
    "df_NIS4 = df[df['DeviceProtection'] == 'No internet service']\n",
    "df_NIS4['Churn'].value_counts()"
   ]
  },
  {
   "cell_type": "code",
   "execution_count": 73,
   "id": "bb22257d",
   "metadata": {},
   "outputs": [
    {
     "name": "stdout",
     "output_type": "stream",
     "text": [
      "Customers without Data Protection Churn = 39.13%\n",
      "Customers with Data Protection Churn = 22.5%\n",
      "Customers with no Internet Service Churn = 7.4%\n"
     ]
    }
   ],
   "source": [
    "# Percentage Churn\n",
    "# No Data Protection\n",
    "ndpn = 1884\n",
    "ndpy = 1211\n",
    "ndpt = ndpn + ndpy\n",
    "ndpc = round((ndpy/ndpt)*100, 2)\n",
    "print(f\"Customers without Data Protection Churn = {ndpc}%\")\n",
    "# With Data Protection\n",
    "dpn = 1877\n",
    "dpy = 545 \n",
    "dpt = dpn + dpy\n",
    "dpc =  round((dpy/dpt)*100, 2)\n",
    "print(f\"Customers with Data Protection Churn = {dpc}%\")\n",
    "# No internet service\n",
    "nisn = 1413\n",
    "nisy = 113 \n",
    "nist = nisn + nisy\n",
    "nisc =  round((nisy/nist)*100, 2)\n",
    "print(f\"Customers with no Internet Service Churn = {nisc}%\")"
   ]
  },
  {
   "cell_type": "markdown",
   "id": "0b78313f",
   "metadata": {},
   "source": [
    "#### Tech Support"
   ]
  },
  {
   "cell_type": "code",
   "execution_count": 74,
   "id": "b903b8a5",
   "metadata": {},
   "outputs": [
    {
     "data": {
      "image/png": "[encoded data removed]",
      "text/plain": [
       "<Figure size 432x288 with 1 Axes>"
      ]
     },
     "metadata": {},
     "output_type": "display_data"
    }
   ],
   "source": [
    "sns.set_theme(style=\"darkgrid\")\n",
    "sns.countplot(x = df['TechSupport'], hue=df['Churn']).set(title='Tech Support Feature Churn')\n",
    "plt.ylabel(\"\")\n",
    "plt.xlabel(\"\")\n",
    "None"
   ]
  },
  {
   "cell_type": "code",
   "execution_count": 75,
   "id": "d51e1343",
   "metadata": {},
   "outputs": [
    {
     "data": {
      "text/plain": [
       "No     2027\n",
       "Yes    1446\n",
       "Name: Churn, dtype: int64"
      ]
     },
     "execution_count": 75,
     "metadata": {},
     "output_type": "execute_result"
    }
   ],
   "source": [
    "#No T.Support\n",
    "df_NTS = df[df['TechSupport'] == 'No']\n",
    "df_NTS['Churn'].value_counts()"
   ]
  },
  {
   "cell_type": "code",
   "execution_count": 76,
   "id": "98df08e9",
   "metadata": {},
   "outputs": [
    {
     "data": {
      "text/plain": [
       "No     1734\n",
       "Yes     310\n",
       "Name: Churn, dtype: int64"
      ]
     },
     "execution_count": 76,
     "metadata": {},
     "output_type": "execute_result"
    }
   ],
   "source": [
    "#T.Support\n",
    "df_TS = df[df['TechSupport'] == 'Yes']\n",
    "df_TS['Churn'].value_counts()"
   ]
  },
  {
   "cell_type": "code",
   "execution_count": 77,
   "id": "3149ef30",
   "metadata": {},
   "outputs": [
    {
     "data": {
      "text/plain": [
       "No     1413\n",
       "Yes     113\n",
       "Name: Churn, dtype: int64"
      ]
     },
     "execution_count": 77,
     "metadata": {},
     "output_type": "execute_result"
    }
   ],
   "source": [
    "#No IS #5\n",
    "df_NIS5 = df[df['TechSupport'] == 'No internet service']\n",
    "df_NIS5['Churn'].value_counts()"
   ]
  },
  {
   "cell_type": "code",
   "execution_count": 78,
   "id": "08ab3c27",
   "metadata": {},
   "outputs": [
    {
     "name": "stdout",
     "output_type": "stream",
     "text": [
      "Customers with No Tech Support = 41.64%\n",
      "Customers with Tech Support Churn = 15.17%\n",
      "Customers with no Internet Service Churn = 7.4%\n"
     ]
    }
   ],
   "source": [
    "# Percentage Churn\n",
    "# No Tech Support\n",
    "ntsn = 2027\n",
    "ntsy = 1446\n",
    "ntst = ntsn + ntsy\n",
    "ntsc = round((ntsy/ntst)*100, 2)\n",
    "print(f\"Customers with No Tech Support = {ntsc}%\")\n",
    "# With Tech Support\n",
    "tsn = 1734\n",
    "tsy = 310 \n",
    "tst = tsn + tsy\n",
    "tsc =  round((tsy/tst)*100, 2)\n",
    "print(f\"Customers with Tech Support Churn = {tsc}%\")\n",
    "# No internet service\n",
    "nisn = 1413\n",
    "nisy = 113 \n",
    "nist = nisn + nisy\n",
    "nisc =  round((nisy/nist)*100, 2)\n",
    "print(f\"Customers with no Internet Service Churn = {nisc}%\")"
   ]
  },
  {
   "cell_type": "markdown",
   "id": "d1a65076",
   "metadata": {},
   "source": [
    "#### Streaming TV"
   ]
  },
  {
   "cell_type": "code",
   "execution_count": 79,
   "id": "8be35450",
   "metadata": {},
   "outputs": [
    {
     "data": {
      "image/png": "[encoded data removed]",
      "text/plain": [
       "<Figure size 432x288 with 1 Axes>"
      ]
     },
     "metadata": {},
     "output_type": "display_data"
    }
   ],
   "source": [
    "sns.set_theme(style=\"darkgrid\")\n",
    "sns.countplot(x = df['StreamingTV'], hue=df['Churn']).set(title='Streaming TV Feature Churn')\n",
    "plt.ylabel(\"\")\n",
    "plt.xlabel(\"\")\n",
    "None"
   ]
  },
  {
   "cell_type": "code",
   "execution_count": 80,
   "id": "4644d1ec",
   "metadata": {},
   "outputs": [
    {
     "data": {
      "text/plain": [
       "No     1868\n",
       "Yes     942\n",
       "Name: Churn, dtype: int64"
      ]
     },
     "execution_count": 80,
     "metadata": {},
     "output_type": "execute_result"
    }
   ],
   "source": [
    "#No S.TV\n",
    "df_NSTV = df[df['StreamingTV'] == 'No']\n",
    "df_NSTV['Churn'].value_counts()"
   ]
  },
  {
   "cell_type": "code",
   "execution_count": 81,
   "id": "a80136b4",
   "metadata": {},
   "outputs": [
    {
     "data": {
      "text/plain": [
       "No     1893\n",
       "Yes     814\n",
       "Name: Churn, dtype: int64"
      ]
     },
     "execution_count": 81,
     "metadata": {},
     "output_type": "execute_result"
    }
   ],
   "source": [
    "#S.TV\n",
    "df_STV = df[df['StreamingTV'] == 'Yes']\n",
    "df_STV['Churn'].value_counts()"
   ]
  },
  {
   "cell_type": "code",
   "execution_count": 82,
   "id": "3ff8a43e",
   "metadata": {},
   "outputs": [
    {
     "data": {
      "text/plain": [
       "No     1413\n",
       "Yes     113\n",
       "Name: Churn, dtype: int64"
      ]
     },
     "execution_count": 82,
     "metadata": {},
     "output_type": "execute_result"
    }
   ],
   "source": [
    "#No IS #6\n",
    "df_NIS6 = df[df['StreamingTV'] == 'No internet service']\n",
    "df_NIS6['Churn'].value_counts()"
   ]
  },
  {
   "cell_type": "code",
   "execution_count": 83,
   "id": "7f862912",
   "metadata": {},
   "outputs": [
    {
     "name": "stdout",
     "output_type": "stream",
     "text": [
      "Customers with No Streaming TV = 33.52%\n",
      "Customers with Streaming TV Churn = 30.07%\n",
      "Customers with no Internet Service Churn = 7.4%\n"
     ]
    }
   ],
   "source": [
    "# Percentage Churn\n",
    "# No Streaming TV\n",
    "ntvn = 1868\n",
    "ntvy = 942\n",
    "ntvt = ntvn + ntvy\n",
    "ntvc = round((ntvy/ntvt)*100, 2)\n",
    "print(f\"Customers with No Streaming TV = {ntvc}%\")\n",
    "# With Streaming TV\n",
    "tvn = 1893\n",
    "tvy = 814 \n",
    "tvt = tvn + tvy\n",
    "tvc =  round((tvy/tvt)*100, 2)\n",
    "print(f\"Customers with Streaming TV Churn = {tvc}%\")\n",
    "# No internet service\n",
    "nisn = 1413\n",
    "nisy = 113 \n",
    "nist = nisn + nisy\n",
    "nisc =  round((nisy/nist)*100, 2)\n",
    "print(f\"Customers with no Internet Service Churn = {nisc}%\")"
   ]
  },
  {
   "cell_type": "markdown",
   "id": "62b758a7",
   "metadata": {},
   "source": [
    "#### Streaming Movies"
   ]
  },
  {
   "cell_type": "code",
   "execution_count": 84,
   "id": "5572b76b",
   "metadata": {},
   "outputs": [
    {
     "data": {
      "image/png": "[encoded data removed]",
      "text/plain": [
       "<Figure size 432x288 with 1 Axes>"
      ]
     },
     "metadata": {},
     "output_type": "display_data"
    }
   ],
   "source": [
    "sns.set_theme(style=\"darkgrid\")\n",
    "sns.countplot(x = df['StreamingMovies'], hue=df['Churn']).set(title='Streaming Movies Feature Churn')\n",
    "plt.ylabel(\"\")\n",
    "plt.xlabel(\"\")\n",
    "None"
   ]
  },
  {
   "cell_type": "code",
   "execution_count": 85,
   "id": "ac8ee95f",
   "metadata": {},
   "outputs": [
    {
     "data": {
      "text/plain": [
       "No     1847\n",
       "Yes     938\n",
       "Name: Churn, dtype: int64"
      ]
     },
     "execution_count": 85,
     "metadata": {},
     "output_type": "execute_result"
    }
   ],
   "source": [
    "#No S.Movies\n",
    "df_NSM = df[df['StreamingMovies'] == 'No']\n",
    "df_NSM['Churn'].value_counts()"
   ]
  },
  {
   "cell_type": "code",
   "execution_count": 86,
   "id": "58e33b0f",
   "metadata": {},
   "outputs": [
    {
     "data": {
      "text/plain": [
       "No     1914\n",
       "Yes     818\n",
       "Name: Churn, dtype: int64"
      ]
     },
     "execution_count": 86,
     "metadata": {},
     "output_type": "execute_result"
    }
   ],
   "source": [
    "#S.Movies\n",
    "df_NSM = df[df['StreamingMovies'] == 'Yes']\n",
    "df_NSM['Churn'].value_counts()"
   ]
  },
  {
   "cell_type": "code",
   "execution_count": 87,
   "id": "9327e08a",
   "metadata": {},
   "outputs": [
    {
     "data": {
      "text/plain": [
       "No     1413\n",
       "Yes     113\n",
       "Name: Churn, dtype: int64"
      ]
     },
     "execution_count": 87,
     "metadata": {},
     "output_type": "execute_result"
    }
   ],
   "source": [
    "#No IS #7\n",
    "df_NIS7 = df[df['StreamingMovies'] == 'No internet service']\n",
    "df_NIS7['Churn'].value_counts()"
   ]
  },
  {
   "cell_type": "code",
   "execution_count": 88,
   "id": "88287f2f",
   "metadata": {},
   "outputs": [
    {
     "name": "stdout",
     "output_type": "stream",
     "text": [
      "Customers with No Streaming Movie Churn = 33.68%\n",
      "Customers with Streaming Movie Churn = 30.07%\n",
      "Customers with no Internet Service Churn = 7.4%\n"
     ]
    }
   ],
   "source": [
    "# Percentage Churn\n",
    "# No Streaming Movies\n",
    "nmn = 1847\n",
    "nmy = 938\n",
    "nmt = nmn + nmy\n",
    "nmc = round((nmy/nmt)*100, 2)\n",
    "print(f\"Customers with No Streaming Movie Churn = {nmc}%\")\n",
    "# With Streaming Movies\n",
    "mn = 1893\n",
    "my = 814 \n",
    "mt = mn + my\n",
    "mc =  round((my/mt)*100, 2)\n",
    "print(f\"Customers with Streaming Movie Churn = {mc}%\")\n",
    "# No internet service\n",
    "nisn = 1413\n",
    "nisy = 113 \n",
    "nist = nisn + nisy\n",
    "nisc =  round((nisy/nist)*100, 2)\n",
    "print(f\"Customers with no Internet Service Churn = {nisc}%\")"
   ]
  },
  {
   "cell_type": "markdown",
   "id": "3cfe1a98",
   "metadata": {},
   "source": [
    "#### Contract"
   ]
  },
  {
   "cell_type": "code",
   "execution_count": 89,
   "id": "6458a1ae",
   "metadata": {},
   "outputs": [
    {
     "data": {
      "image/png": "[encoded data removed]",
      "text/plain": [
       "<Figure size 432x288 with 1 Axes>"
      ]
     },
     "metadata": {},
     "output_type": "display_data"
    }
   ],
   "source": [
    "sns.set_theme(style=\"darkgrid\")\n",
    "sns.countplot(x = df['Contract'], hue=df['Churn']).set(title='Contract Feature Churn')\n",
    "plt.ylabel(\"\")\n",
    "plt.xlabel(\"\")\n",
    "None"
   ]
  },
  {
   "cell_type": "code",
   "execution_count": 90,
   "id": "f17d9f29",
   "metadata": {},
   "outputs": [
    {
     "data": {
      "text/plain": [
       "No     2220\n",
       "Yes    1655\n",
       "Name: Churn, dtype: int64"
      ]
     },
     "execution_count": 90,
     "metadata": {},
     "output_type": "execute_result"
    }
   ],
   "source": [
    "#Month to month\n",
    "df_MtM = df[df['Contract'] == 'Month-to-month']\n",
    "df_MtM['Churn'].value_counts()"
   ]
  },
  {
   "cell_type": "code",
   "execution_count": 91,
   "id": "feb88767",
   "metadata": {},
   "outputs": [
    {
     "data": {
      "text/plain": [
       "No     1307\n",
       "Yes     166\n",
       "Name: Churn, dtype: int64"
      ]
     },
     "execution_count": 91,
     "metadata": {},
     "output_type": "execute_result"
    }
   ],
   "source": [
    "#1 Year\n",
    "df_1Y = df[df['Contract'] == 'One year']\n",
    "df_1Y['Churn'].value_counts()"
   ]
  },
  {
   "cell_type": "code",
   "execution_count": 92,
   "id": "7b138df5",
   "metadata": {},
   "outputs": [
    {
     "data": {
      "text/plain": [
       "No     1647\n",
       "Yes      48\n",
       "Name: Churn, dtype: int64"
      ]
     },
     "execution_count": 92,
     "metadata": {},
     "output_type": "execute_result"
    }
   ],
   "source": [
    "#2 Year\n",
    "df_2Y = df[df['Contract'] == 'Two year']\n",
    "df_2Y['Churn'].value_counts()"
   ]
  },
  {
   "cell_type": "code",
   "execution_count": 93,
   "id": "8abc7122",
   "metadata": {},
   "outputs": [
    {
     "name": "stdout",
     "output_type": "stream",
     "text": [
      "Customers with Month-To-Month Contract Churn  = 42.71%\n",
      "Customers with 1 Year Contract Churn = 11.27%\n",
      "Customers with 2 Year Contract Churn = 2.83%\n"
     ]
    }
   ],
   "source": [
    "# Percentage Churn\n",
    "# month-to-month contract\n",
    "m2mn = 2220\n",
    "m2my = 1655\n",
    "m2mt = m2mn + m2my\n",
    "m2mc = round((m2my/m2mt)*100, 2)\n",
    "print(f\"Customers with Month-To-Month Contract Churn  = {m2mc}%\")\n",
    "# 1 year contract\n",
    "yn = 1307\n",
    "yy = 166 \n",
    "yt = yn + yy\n",
    "yc =  round((yy/yt)*100, 2)\n",
    "print(f\"Customers with 1 Year Contract Churn = {yc}%\")\n",
    "# 2 year contract\n",
    "tyn = 1647\n",
    "tyy = 48 \n",
    "tyt = tyn + tyy\n",
    "tyc =  round((tyy/tyt)*100, 2)\n",
    "print(f\"Customers with 2 Year Contract Churn = {tyc}%\")"
   ]
  },
  {
   "cell_type": "markdown",
   "id": "f2c83bb3",
   "metadata": {},
   "source": [
    "#### Paperless Billing"
   ]
  },
  {
   "cell_type": "code",
   "execution_count": 94,
   "id": "e43afdd4",
   "metadata": {},
   "outputs": [
    {
     "data": {
      "image/png": "[encoded data removed]",
      "text/plain": [
       "<Figure size 432x288 with 1 Axes>"
      ]
     },
     "metadata": {},
     "output_type": "display_data"
    }
   ],
   "source": [
    "sns.set_theme(style=\"darkgrid\")\n",
    "sns.countplot(x = df['PaperlessBilling'], hue=df['Churn']).set(title='Paperless Billing Feature Churn')\n",
    "plt.ylabel(\"\")\n",
    "plt.xlabel(\"\")\n",
    "None"
   ]
  },
  {
   "cell_type": "code",
   "execution_count": 95,
   "id": "61080f80",
   "metadata": {},
   "outputs": [
    {
     "data": {
      "text/plain": [
       "No     2771\n",
       "Yes    1400\n",
       "Name: Churn, dtype: int64"
      ]
     },
     "execution_count": 95,
     "metadata": {},
     "output_type": "execute_result"
    }
   ],
   "source": [
    "#P.Billing\n",
    "df_PB = df[df['PaperlessBilling'] == 'Yes']\n",
    "df_PB['Churn'].value_counts()"
   ]
  },
  {
   "cell_type": "code",
   "execution_count": 96,
   "id": "17d5f693",
   "metadata": {},
   "outputs": [
    {
     "data": {
      "text/plain": [
       "No     2403\n",
       "Yes     469\n",
       "Name: Churn, dtype: int64"
      ]
     },
     "execution_count": 96,
     "metadata": {},
     "output_type": "execute_result"
    }
   ],
   "source": [
    "#Np P.Billing\n",
    "df_NPB = df[df['PaperlessBilling'] == 'No']\n",
    "df_NPB['Churn'].value_counts()"
   ]
  },
  {
   "cell_type": "code",
   "execution_count": 97,
   "id": "c4678804",
   "metadata": {},
   "outputs": [
    {
     "name": "stdout",
     "output_type": "stream",
     "text": [
      "Customers with Paperless Billing Churn = 33.57%\n",
      "Customers without Paperless Billing Churn = 11.27%\n"
     ]
    }
   ],
   "source": [
    "# Percentage Churn\n",
    "# paperless billing\n",
    "pbn = 2771\n",
    "pby = 1400\n",
    "pbt = pbn + pby\n",
    "pbc = round((pby/pbt)*100, 2)\n",
    "print(f\"Customers with Paperless Billing Churn = {pbc}%\")\n",
    "# no paperless billing\n",
    "npbn = 1307\n",
    "npby = 166 \n",
    "npbt = npbn + npby\n",
    "npbc =  round((npby/npbt)*100, 2)\n",
    "print(f\"Customers without Paperless Billing Churn = {npbc}%\")"
   ]
  },
  {
   "cell_type": "markdown",
   "id": "f47adb3d",
   "metadata": {},
   "source": [
    "#### Payment Method"
   ]
  },
  {
   "cell_type": "code",
   "execution_count": 98,
   "id": "1f60b2ba",
   "metadata": {},
   "outputs": [
    {
     "data": {
      "image/png": "[encoded data removed]",
      "text/plain": [
       "<Figure size 432x288 with 1 Axes>"
      ]
     },
     "metadata": {},
     "output_type": "display_data"
    }
   ],
   "source": [
    "sns.set_theme(style=\"darkgrid\")\n",
    "chart = sns.countplot(x = df['PaymentMethod'], hue=df['Churn'])\n",
    "chart.set_xticklabels(chart.get_xticklabels(), rotation=45, horizontalalignment='right')\n",
    "chart.set_xlabel(\"\")\n",
    "chart.set_ylabel(\"\")\n",
    "chart.set_title(\"Payment Method Feature Churn\")\n",
    "None"
   ]
  },
  {
   "cell_type": "code",
   "execution_count": 99,
   "id": "837bf187",
   "metadata": {},
   "outputs": [
    {
     "data": {
      "text/plain": [
       "No     1294\n",
       "Yes    1071\n",
       "Name: Churn, dtype: int64"
      ]
     },
     "execution_count": 99,
     "metadata": {},
     "output_type": "execute_result"
    }
   ],
   "source": [
    "#E.Check\n",
    "df_EC = df[df['PaymentMethod'] == 'Electronic check']\n",
    "df_EC['Churn'].value_counts()"
   ]
  },
  {
   "cell_type": "code",
   "execution_count": 100,
   "id": "24fac4c7",
   "metadata": {},
   "outputs": [
    {
     "data": {
      "text/plain": [
       "No     1304\n",
       "Yes     308\n",
       "Name: Churn, dtype: int64"
      ]
     },
     "execution_count": 100,
     "metadata": {},
     "output_type": "execute_result"
    }
   ],
   "source": [
    "#M.Check\n",
    "df_MC = df[df['PaymentMethod'] == 'Mailed check']\n",
    "df_MC['Churn'].value_counts()"
   ]
  },
  {
   "cell_type": "code",
   "execution_count": 101,
   "id": "875c34d1",
   "metadata": {},
   "outputs": [
    {
     "data": {
      "text/plain": [
       "No     1286\n",
       "Yes     258\n",
       "Name: Churn, dtype: int64"
      ]
     },
     "execution_count": 101,
     "metadata": {},
     "output_type": "execute_result"
    }
   ],
   "source": [
    "#B.transfer (auto)\n",
    "df_Bta = df[df['PaymentMethod'] == 'Bank transfer (automatic)']\n",
    "df_Bta['Churn'].value_counts()"
   ]
  },
  {
   "cell_type": "code",
   "execution_count": 102,
   "id": "cbd85a4d",
   "metadata": {},
   "outputs": [
    {
     "data": {
      "text/plain": [
       "No     1290\n",
       "Yes     232\n",
       "Name: Churn, dtype: int64"
      ]
     },
     "execution_count": 102,
     "metadata": {},
     "output_type": "execute_result"
    }
   ],
   "source": [
    "#C.Card (auto)\n",
    "df_CCa = df[df['PaymentMethod'] == 'Credit card (automatic)']\n",
    "df_CCa['Churn'].value_counts()"
   ]
  },
  {
   "cell_type": "code",
   "execution_count": 103,
   "id": "340b56f7",
   "metadata": {},
   "outputs": [
    {
     "name": "stdout",
     "output_type": "stream",
     "text": [
      "Customers Paying by Electronic Check Churn = 45.29%\n",
      "Customers Paying by Mailed Check Churn = 19.11%\n",
      "Customers Paying by Bank Transfer (Auto) Churn = 16.71%\n",
      "Customers Paying by Credit Card (Auto) Churn = 15.24%\n"
     ]
    }
   ],
   "source": [
    "# Percentage Churn\n",
    "# electronic CHeck\n",
    "ecn = 1294\n",
    "ecy = 1071\n",
    "ect = ecn + ecy\n",
    "ecc = round((ecy/ect)*100, 2)\n",
    "print(f\"Customers Paying by Electronic Check Churn = {ecc}%\")\n",
    "# mailed check\n",
    "mcn = 1304\n",
    "mcy = 308 \n",
    "mct = mcn + mcy\n",
    "mcc =  round((mcy/mct)*100, 2)\n",
    "print(f\"Customers Paying by Mailed Check Churn = {mcc}%\")\n",
    "# bank transfer (auto)\n",
    "btn = 1286\n",
    "bty = 258\n",
    "btt = btn + bty\n",
    "btc = round((bty/btt)*100, 2)\n",
    "print(f\"Customers Paying by Bank Transfer (Auto) Churn = {btc}%\")\n",
    "# credit card (auto)\n",
    "ccn = 1290\n",
    "ccy = 232 \n",
    "cct = ccn + ccy\n",
    "ccc =  round((ccy/cct)*100, 2)\n",
    "print(f\"Customers Paying by Credit Card (Auto) Churn = {ccc}%\")"
   ]
  },
  {
   "cell_type": "markdown",
   "id": "7901fd84",
   "metadata": {},
   "source": [
    "#### Churn"
   ]
  },
  {
   "cell_type": "code",
   "execution_count": 104,
   "id": "13444648",
   "metadata": {},
   "outputs": [
    {
     "name": "stdout",
     "output_type": "stream",
     "text": [
      "No     5174\n",
      "Yes    1869\n",
      "Name: Churn, dtype: int64\n"
     ]
    },
    {
     "data": {
      "image/png": "[encoded data removed]",
      "text/plain": [
       "<Figure size 432x288 with 1 Axes>"
      ]
     },
     "metadata": {},
     "output_type": "display_data"
    }
   ],
   "source": [
    "sns.set_theme(style=\"darkgrid\")\n",
    "sns.countplot(x = df['Churn']).set(title='Number of Customer Churn')\n",
    "plt.ylabel(\"\")\n",
    "plt.xlabel(\"\")\n",
    "num_churn = df['Churn'].value_counts()\n",
    "print(num_churn)"
   ]
  },
  {
   "cell_type": "code",
   "execution_count": 105,
   "id": "7145e021",
   "metadata": {},
   "outputs": [
    {
     "name": "stdout",
     "output_type": "stream",
     "text": [
      "The percentage of customer churn for this company is: 36.12%\n"
     ]
    }
   ],
   "source": [
    "# Percentage Customer Churn\n",
    "num_churn = 1869\n",
    "num_not_churn = 5174\n",
    "churned = round((num_churn/num_not_churn)*100, 2)\n",
    "print(f\"The percentage of customer churn for this company is: {churned}%\")"
   ]
  },
  {
   "cell_type": "markdown",
   "id": "56fac5d9",
   "metadata": {},
   "source": [
    "### Features that were not visualised"
   ]
  },
  {
   "cell_type": "markdown",
   "id": "8cda08e2",
   "metadata": {},
   "source": [
    "The following features in the dataset have not been visualised yet because they contain a wide range of values making it hard to visualise apropriately.\n",
    "\n",
    "    df['tenure']) = Number of months the customer has been with company\n",
    "\n",
    "\n",
    "    df['MonthlyCharges'] = The amount charged to the customer monthly\n",
    "\n",
    "\n",
    "    df['TotalCharges'] = Total amount charged to the customer\n",
    "\n",
    "I will open the data into excel and create a new columns which contains a nested IF functions to sort the values into a range so that the data can be visualised. This dataset will have a new name and so I will need to read the data again. Note: No changes will be made to the data itself."
   ]
  },
  {
   "cell_type": "code",
   "execution_count": 106,
   "id": "243fb312",
   "metadata": {},
   "outputs": [
    {
     "name": "stdout",
     "output_type": "stream",
     "text": [
      "72\n",
      "118.75\n",
      "999.9\n"
     ]
    }
   ],
   "source": [
    "# Need to find the max value for each column so an appropriate range can be determined\n",
    "print(df['tenure'].max())\n",
    "print(df['MonthlyCharges'].max())\n",
    "print(df['TotalCharges'].max())"
   ]
  },
  {
   "cell_type": "code",
   "execution_count": 107,
   "id": "796fbebb",
   "metadata": {},
   "outputs": [],
   "source": [
    "df_range = pd.read_csv(r\"C:\\Users\\Liam\\Desktop\\Personal Projects\\Project 10 - Customer Churn Prediction\\data_with_range.csv\")"
   ]
  },
  {
   "cell_type": "code",
   "execution_count": 108,
   "id": "d69bb134",
   "metadata": {},
   "outputs": [
    {
     "data": {
      "text/html": [
       "<div>\n",
       "<style scoped>\n",
       "    .dataframe tbody tr th:only-of-type {\n",
       "        vertical-align: middle;\n",
       "    }\n",
       "\n",
       "    .dataframe tbody tr th {\n",
       "        vertical-align: top;\n",
       "    }\n",
       "\n",
       "    .dataframe thead th {\n",
       "        text-align: right;\n",
       "    }\n",
       "</style>\n",
       "<table border=\"1\" class=\"dataframe\">\n",
       "  <thead>\n",
       "    <tr style=\"text-align: right;\">\n",
       "      <th></th>\n",
       "      <th>Unnamed: 0</th>\n",
       "      <th>customerID</th>\n",
       "      <th>gender</th>\n",
       "      <th>SeniorCitizen</th>\n",
       "      <th>Partner</th>\n",
       "      <th>Dependents</th>\n",
       "      <th>tenure</th>\n",
       "      <th>PhoneService</th>\n",
       "      <th>MultipleLines</th>\n",
       "      <th>InternetService</th>\n",
       "      <th>...</th>\n",
       "      <th>StreamingMovies</th>\n",
       "      <th>Contract</th>\n",
       "      <th>PaperlessBilling</th>\n",
       "      <th>PaymentMethod</th>\n",
       "      <th>MonthlyCharges</th>\n",
       "      <th>TotalCharges</th>\n",
       "      <th>Churn</th>\n",
       "      <th>Tenure Range</th>\n",
       "      <th>Monthly Charge Range</th>\n",
       "      <th>Total Charge Range</th>\n",
       "    </tr>\n",
       "  </thead>\n",
       "  <tbody>\n",
       "    <tr>\n",
       "      <th>0</th>\n",
       "      <td>0</td>\n",
       "      <td>7590-VHVEG</td>\n",
       "      <td>Female</td>\n",
       "      <td>0</td>\n",
       "      <td>Yes</td>\n",
       "      <td>No</td>\n",
       "      <td>1</td>\n",
       "      <td>No</td>\n",
       "      <td>No phone service</td>\n",
       "      <td>DSL</td>\n",
       "      <td>...</td>\n",
       "      <td>No</td>\n",
       "      <td>Month-to-month</td>\n",
       "      <td>Yes</td>\n",
       "      <td>Electronic check</td>\n",
       "      <td>29.85</td>\n",
       "      <td>29.85</td>\n",
       "      <td>No</td>\n",
       "      <td>0-1</td>\n",
       "      <td>25-50</td>\n",
       "      <td>0-999</td>\n",
       "    </tr>\n",
       "    <tr>\n",
       "      <th>1</th>\n",
       "      <td>1</td>\n",
       "      <td>5575-GNVDE</td>\n",
       "      <td>Male</td>\n",
       "      <td>0</td>\n",
       "      <td>No</td>\n",
       "      <td>No</td>\n",
       "      <td>34</td>\n",
       "      <td>Yes</td>\n",
       "      <td>No</td>\n",
       "      <td>DSL</td>\n",
       "      <td>...</td>\n",
       "      <td>No</td>\n",
       "      <td>One year</td>\n",
       "      <td>No</td>\n",
       "      <td>Mailed check</td>\n",
       "      <td>56.95</td>\n",
       "      <td>1889.5</td>\n",
       "      <td>No</td>\n",
       "      <td>2-3</td>\n",
       "      <td>50-75</td>\n",
       "      <td>1000-1999</td>\n",
       "    </tr>\n",
       "    <tr>\n",
       "      <th>2</th>\n",
       "      <td>2</td>\n",
       "      <td>3668-QPYBK</td>\n",
       "      <td>Male</td>\n",
       "      <td>0</td>\n",
       "      <td>No</td>\n",
       "      <td>No</td>\n",
       "      <td>2</td>\n",
       "      <td>Yes</td>\n",
       "      <td>No</td>\n",
       "      <td>DSL</td>\n",
       "      <td>...</td>\n",
       "      <td>No</td>\n",
       "      <td>Month-to-month</td>\n",
       "      <td>Yes</td>\n",
       "      <td>Mailed check</td>\n",
       "      <td>53.85</td>\n",
       "      <td>108.15</td>\n",
       "      <td>Yes</td>\n",
       "      <td>0-1</td>\n",
       "      <td>50-75</td>\n",
       "      <td>0-999</td>\n",
       "    </tr>\n",
       "    <tr>\n",
       "      <th>3</th>\n",
       "      <td>3</td>\n",
       "      <td>7795-CFOCW</td>\n",
       "      <td>Male</td>\n",
       "      <td>0</td>\n",
       "      <td>No</td>\n",
       "      <td>No</td>\n",
       "      <td>45</td>\n",
       "      <td>No</td>\n",
       "      <td>No phone service</td>\n",
       "      <td>DSL</td>\n",
       "      <td>...</td>\n",
       "      <td>No</td>\n",
       "      <td>One year</td>\n",
       "      <td>No</td>\n",
       "      <td>Bank transfer (automatic)</td>\n",
       "      <td>42.30</td>\n",
       "      <td>1840.75</td>\n",
       "      <td>No</td>\n",
       "      <td>3-4</td>\n",
       "      <td>25-50</td>\n",
       "      <td>1000-1999</td>\n",
       "    </tr>\n",
       "    <tr>\n",
       "      <th>4</th>\n",
       "      <td>4</td>\n",
       "      <td>9237-HQITU</td>\n",
       "      <td>Female</td>\n",
       "      <td>0</td>\n",
       "      <td>No</td>\n",
       "      <td>No</td>\n",
       "      <td>2</td>\n",
       "      <td>Yes</td>\n",
       "      <td>No</td>\n",
       "      <td>Fiber optic</td>\n",
       "      <td>...</td>\n",
       "      <td>No</td>\n",
       "      <td>Month-to-month</td>\n",
       "      <td>Yes</td>\n",
       "      <td>Electronic check</td>\n",
       "      <td>70.70</td>\n",
       "      <td>151.65</td>\n",
       "      <td>Yes</td>\n",
       "      <td>0-1</td>\n",
       "      <td>50-75</td>\n",
       "      <td>0-999</td>\n",
       "    </tr>\n",
       "  </tbody>\n",
       "</table>\n",
       "<p>5 rows × 25 columns</p>\n",
       "</div>"
      ],
      "text/plain": [
       "   Unnamed: 0  customerID  gender  SeniorCitizen Partner Dependents  tenure  \\\n",
       "0           0  7590-VHVEG  Female              0     Yes         No       1   \n",
       "1           1  5575-GNVDE    Male              0      No         No      34   \n",
       "2           2  3668-QPYBK    Male              0      No         No       2   \n",
       "3           3  7795-CFOCW    Male              0      No         No      45   \n",
       "4           4  9237-HQITU  Female              0      No         No       2   \n",
       "\n",
       "  PhoneService     MultipleLines InternetService  ... StreamingMovies  \\\n",
       "0           No  No phone service             DSL  ...              No   \n",
       "1          Yes                No             DSL  ...              No   \n",
       "2          Yes                No             DSL  ...              No   \n",
       "3           No  No phone service             DSL  ...              No   \n",
       "4          Yes                No     Fiber optic  ...              No   \n",
       "\n",
       "         Contract PaperlessBilling              PaymentMethod MonthlyCharges  \\\n",
       "0  Month-to-month              Yes           Electronic check          29.85   \n",
       "1        One year               No               Mailed check          56.95   \n",
       "2  Month-to-month              Yes               Mailed check          53.85   \n",
       "3        One year               No  Bank transfer (automatic)          42.30   \n",
       "4  Month-to-month              Yes           Electronic check          70.70   \n",
       "\n",
       "  TotalCharges Churn Tenure Range Monthly Charge Range  Total Charge Range  \n",
       "0        29.85    No          0-1                25-50               0-999  \n",
       "1       1889.5    No          2-3                50-75           1000-1999  \n",
       "2       108.15   Yes          0-1                50-75               0-999  \n",
       "3      1840.75    No          3-4                25-50           1000-1999  \n",
       "4       151.65   Yes          0-1                50-75               0-999  \n",
       "\n",
       "[5 rows x 25 columns]"
      ]
     },
     "execution_count": 108,
     "metadata": {},
     "output_type": "execute_result"
    }
   ],
   "source": [
    "df_range.head() # this has a new index but we can ignore it because it doesn't affect the data and we only want\n",
    "                # with the ranges the additional columns "
   ]
  },
  {
   "cell_type": "code",
   "execution_count": 109,
   "id": "0575f818",
   "metadata": {},
   "outputs": [
    {
     "data": {
      "text/plain": [
       "0-1     2186\n",
       "5-6     1407\n",
       " 1-2    1024\n",
       "2-3      832\n",
       "4-5      832\n",
       "3-4      762\n",
       "Name: Tenure Range, dtype: int64"
      ]
     },
     "execution_count": 109,
     "metadata": {},
     "output_type": "execute_result"
    }
   ],
   "source": [
    "df_range['Tenure Range'].value_counts()"
   ]
  },
  {
   "cell_type": "markdown",
   "id": "b18f9270",
   "metadata": {},
   "source": [
    "#### Tenure"
   ]
  },
  {
   "cell_type": "code",
   "execution_count": 110,
   "id": "f3b9c0bf",
   "metadata": {},
   "outputs": [
    {
     "data": {
      "image/png": "[encoded data removed]",
      "text/plain": [
       "<Figure size 432x288 with 1 Axes>"
      ]
     },
     "metadata": {},
     "output_type": "display_data"
    }
   ],
   "source": [
    "sns.set_theme(style=\"darkgrid\")\n",
    "chart = sns.countplot(x = df_range['Tenure Range'], hue=df['Churn'])\n",
    "chart.set_xticklabels(chart.get_xticklabels(), rotation=0, horizontalalignment='center')\n",
    "chart.set_xlabel(\"No. of Months\")\n",
    "chart.set_ylabel(\"\")\n",
    "chart.set_title(\"Tenure Feature Churn\")\n",
    "None"
   ]
  },
  {
   "cell_type": "code",
   "execution_count": 111,
   "id": "2b5ad06a",
   "metadata": {},
   "outputs": [
    {
     "data": {
      "text/plain": [
       "No     1149\n",
       "Yes    1037\n",
       "Name: Churn, dtype: int64"
      ]
     },
     "execution_count": 111,
     "metadata": {},
     "output_type": "execute_result"
    }
   ],
   "source": [
    "#0-1\n",
    "df_01 = df_range[df_range['Tenure Range'] == '0-1']\n",
    "df_01['Churn'].value_counts()"
   ]
  },
  {
   "cell_type": "code",
   "execution_count": 112,
   "id": "12567dbb",
   "metadata": {},
   "outputs": [
    {
     "data": {
      "text/plain": [
       "No     730\n",
       "Yes    294\n",
       "Name: Churn, dtype: int64"
      ]
     },
     "execution_count": 112,
     "metadata": {},
     "output_type": "execute_result"
    }
   ],
   "source": [
    "#1-2\n",
    "df_12 = df_range[df_range['Tenure Range'] == ' 1-2'] # there is a 'space' before 1-2\n",
    "df_12['Churn'].value_counts()"
   ]
  },
  {
   "cell_type": "code",
   "execution_count": 113,
   "id": "2ec07dd5",
   "metadata": {},
   "outputs": [
    {
     "data": {
      "text/plain": [
       "No     652\n",
       "Yes    180\n",
       "Name: Churn, dtype: int64"
      ]
     },
     "execution_count": 113,
     "metadata": {},
     "output_type": "execute_result"
    }
   ],
   "source": [
    "#2-3\n",
    "df_23 = df_range[df_range['Tenure Range'] == '2-3']\n",
    "df_23['Churn'].value_counts()"
   ]
  },
  {
   "cell_type": "code",
   "execution_count": 114,
   "id": "a5709496",
   "metadata": {},
   "outputs": [
    {
     "data": {
      "text/plain": [
       "No     617\n",
       "Yes    145\n",
       "Name: Churn, dtype: int64"
      ]
     },
     "execution_count": 114,
     "metadata": {},
     "output_type": "execute_result"
    }
   ],
   "source": [
    "#3-4\n",
    "df_34 = df_range[df_range['Tenure Range'] == '3-4']\n",
    "df_34['Churn'].value_counts()"
   ]
  },
  {
   "cell_type": "code",
   "execution_count": 115,
   "id": "527536ec",
   "metadata": {},
   "outputs": [
    {
     "data": {
      "text/plain": [
       "No     712\n",
       "Yes    120\n",
       "Name: Churn, dtype: int64"
      ]
     },
     "execution_count": 115,
     "metadata": {},
     "output_type": "execute_result"
    }
   ],
   "source": [
    "#4-5\n",
    "df_45 = df_range[df_range['Tenure Range'] == '4-5']\n",
    "df_45['Churn'].value_counts()"
   ]
  },
  {
   "cell_type": "code",
   "execution_count": 116,
   "id": "3d399596",
   "metadata": {},
   "outputs": [
    {
     "data": {
      "text/plain": [
       "No     1314\n",
       "Yes      93\n",
       "Name: Churn, dtype: int64"
      ]
     },
     "execution_count": 116,
     "metadata": {},
     "output_type": "execute_result"
    }
   ],
   "source": [
    "#5-6\n",
    "df_56 = df_range[df_range['Tenure Range'] == '5-6']\n",
    "df_56['Churn'].value_counts()"
   ]
  },
  {
   "cell_type": "code",
   "execution_count": 117,
   "id": "8812001b",
   "metadata": {},
   "outputs": [
    {
     "name": "stdout",
     "output_type": "stream",
     "text": [
      "Customers with a Tenure between 0-1 Months = 47.44%\n",
      "Customers with a Tenure between 1-2 Months = 28.71%\n",
      "Customers with a Tenure between 2-3 Months = 21.63%\n",
      "Customers with a Tenure between 3-4 Months = 19.03%\n",
      "Customers with a Tenure between 4-5 Months = 14.42%\n",
      "Customers with a Tenure between 5-6 Months = 6.61%\n"
     ]
    }
   ],
   "source": [
    "# Percentage Churn \n",
    "#remember that the earlier comment mentioned error in the range parameters. However, it should be ok and just note to be\n",
    "#more careful next time.\n",
    "# 0-1\n",
    "an = 1149\n",
    "ay = 1037\n",
    "at = an + ay\n",
    "ac = round((ay/at)*100, 2)\n",
    "print(f\"Customers with a Tenure between 0-1 Months = {ac}%\")\n",
    "# 1-2\n",
    "bn = 730\n",
    "by = 294\n",
    "bt = bn + by\n",
    "bc = round((by/bt)*100, 2)\n",
    "print(f\"Customers with a Tenure between 1-2 Months = {bc}%\")\n",
    "# 2-3\n",
    "cn = 652\n",
    "cy = 180\n",
    "ct = cn + cy\n",
    "cc = round((cy/ct)*100, 2)\n",
    "print(f\"Customers with a Tenure between 2-3 Months = {cc}%\")\n",
    "# 3-4\n",
    "dn = 617\n",
    "dy = 145\n",
    "dt = dn + dy\n",
    "dc = round((dy/dt)*100, 2)\n",
    "print(f\"Customers with a Tenure between 3-4 Months = {dc}%\")\n",
    "# 4-5\n",
    "en = 712\n",
    "ey = 120\n",
    "et = en + ey\n",
    "ec = round((ey/et)*100, 2)\n",
    "print(f\"Customers with a Tenure between 4-5 Months = {ec}%\")\n",
    "# 5-6\n",
    "fn = 1314\n",
    "fy = 93\n",
    "ft = fn + fy\n",
    "fc = round((fy/ft)*100, 2)\n",
    "print(f\"Customers with a Tenure between 5-6 Months = {fc}%\")"
   ]
  },
  {
   "cell_type": "markdown",
   "id": "70d7eadb",
   "metadata": {},
   "source": [
    "#### Monthly Charge Range"
   ]
  },
  {
   "cell_type": "code",
   "execution_count": 118,
   "id": "236587bd",
   "metadata": {},
   "outputs": [
    {
     "data": {
      "image/png": "[encoded data removed]",
      "text/plain": [
       "<Figure size 432x288 with 1 Axes>"
      ]
     },
     "metadata": {},
     "output_type": "display_data"
    }
   ],
   "source": [
    "# forgot to change the labels to 25-49 etc...will change this and the space ofr 1-2 after *the dataset has changed for \n",
    "# some weird reason so I will leave this and will make sure not to repeat this error in the future\n",
    "\n",
    "sns.set_theme(style=\"darkgrid\")\n",
    "chart = sns.countplot(x = df_range['Monthly Charge Range'], hue=df['Churn'])\n",
    "chart.set_xticklabels(chart.get_xticklabels(), rotation=0, horizontalalignment='center')\n",
    "chart.set_xlabel(\"$\")\n",
    "chart.set_ylabel(\"\")\n",
    "chart.set_title(\"Monthly Charge Feature Churn\")\n",
    "None"
   ]
  },
  {
   "cell_type": "code",
   "execution_count": 119,
   "id": "3127faab",
   "metadata": {},
   "outputs": [
    {
     "data": {
      "text/plain": [
       "No     1262\n",
       "Yes     127\n",
       "Name: Churn, dtype: int64"
      ]
     },
     "execution_count": 119,
     "metadata": {},
     "output_type": "execute_result"
    }
   ],
   "source": [
    "#0-25\n",
    "df_025 = df_range[df_range['Monthly Charge Range'] == '0-25']\n",
    "df_025['Churn'].value_counts()"
   ]
  },
  {
   "cell_type": "code",
   "execution_count": 120,
   "id": "35577ba0",
   "metadata": {},
   "outputs": [
    {
     "data": {
      "text/plain": [
       "No     671\n",
       "Yes    234\n",
       "Name: Churn, dtype: int64"
      ]
     },
     "execution_count": 120,
     "metadata": {},
     "output_type": "execute_result"
    }
   ],
   "source": [
    "#25-50\n",
    "df_2550 = df_range[df_range['Monthly Charge Range'] == '25-50']\n",
    "df_2550['Churn'].value_counts()"
   ]
  },
  {
   "cell_type": "code",
   "execution_count": 121,
   "id": "32141862",
   "metadata": {},
   "outputs": [
    {
     "data": {
      "text/plain": [
       "No     1197\n",
       "Yes     424\n",
       "Name: Churn, dtype: int64"
      ]
     },
     "execution_count": 121,
     "metadata": {},
     "output_type": "execute_result"
    }
   ],
   "source": [
    "#50-75\n",
    "df_5075 = df_range[df_range['Monthly Charge Range'] == '50-75']\n",
    "df_5075['Churn'].value_counts()"
   ]
  },
  {
   "cell_type": "code",
   "execution_count": 122,
   "id": "689787c0",
   "metadata": {},
   "outputs": [
    {
     "data": {
      "text/plain": [
       "No     1393\n",
       "Yes     827\n",
       "Name: Churn, dtype: int64"
      ]
     },
     "execution_count": 122,
     "metadata": {},
     "output_type": "execute_result"
    }
   ],
   "source": [
    "#75-100\n",
    "df_75100 = df_range[df_range['Monthly Charge Range'] == '75-100']\n",
    "df_75100['Churn'].value_counts()"
   ]
  },
  {
   "cell_type": "code",
   "execution_count": 123,
   "id": "a67371ab",
   "metadata": {},
   "outputs": [
    {
     "data": {
      "text/plain": [
       "No     651\n",
       "Yes    257\n",
       "Name: Churn, dtype: int64"
      ]
     },
     "execution_count": 123,
     "metadata": {},
     "output_type": "execute_result"
    }
   ],
   "source": [
    "#100-125\n",
    "df_100125 = df_range[df_range['Monthly Charge Range'] == '100-125']\n",
    "df_100125['Churn'].value_counts()"
   ]
  },
  {
   "cell_type": "code",
   "execution_count": 124,
   "id": "24373bdc",
   "metadata": {},
   "outputs": [
    {
     "name": "stdout",
     "output_type": "stream",
     "text": [
      "Customers with a Monthly Charge between 0-25$ = 9.14%\n",
      "Customers with a Monthly Charge between 25-50$ = 25.86%\n",
      "Customers with a Monthly Charge between 50-75$ = 26.16%\n",
      "Customers with a Monthly Charge between 75-100$ = 37.25%\n",
      "Customers with a Monthly Charge between 100-125$ = 28.3%\n"
     ]
    }
   ],
   "source": [
    "# Percentage Churn \n",
    "# 0-25\n",
    "gn = 1262\n",
    "gy = 127\n",
    "gt = gn + gy\n",
    "gc = round((gy/gt)*100, 2)\n",
    "print(f\"Customers with a Monthly Charge between 0-25$ = {gc}%\")\n",
    "# 25-50\n",
    "hn = 671\n",
    "hy = 234\n",
    "ht = hn + hy\n",
    "hc = round((hy/ht)*100, 2)\n",
    "print(f\"Customers with a Monthly Charge between 25-50$ = {hc}%\")\n",
    "# 50-75\n",
    "iin = 1197\n",
    "iy = 424\n",
    "it = iin + iy\n",
    "ic = round((iy/it)*100, 2)\n",
    "print(f\"Customers with a Monthly Charge between 50-75$ = {ic}%\")\n",
    "# 75-100\n",
    "jn = 1393\n",
    "jy = 827\n",
    "jt = jn + jy\n",
    "jc = round((jy/jt)*100, 2)\n",
    "print(f\"Customers with a Monthly Charge between 75-100$ = {jc}%\")\n",
    "# 100-125\n",
    "kn = 651\n",
    "ky = 257\n",
    "kt = kn + ky\n",
    "kc = round((ky/kt)*100, 2)\n",
    "print(f\"Customers with a Monthly Charge between 100-125$ = {kc}%\")"
   ]
  },
  {
   "cell_type": "markdown",
   "id": "f25a9c44",
   "metadata": {},
   "source": [
    "#### Total Charge"
   ]
  },
  {
   "cell_type": "code",
   "execution_count": 125,
   "id": "7422c929",
   "metadata": {},
   "outputs": [
    {
     "data": {
      "image/png": "[encoded data removed]",
      "text/plain": [
       "<Figure size 432x288 with 1 Axes>"
      ]
     },
     "metadata": {},
     "output_type": "display_data"
    }
   ],
   "source": [
    "# Need to go into df and order\n",
    "sns.set_theme(style=\"darkgrid\")\n",
    "chart = sns.countplot(x = df_range['Total Charge Range'], hue=df['Churn'])\n",
    "chart.set_xticklabels(chart.get_xticklabels(), rotation=45, horizontalalignment='center')\n",
    "chart.set_xlabel(\"Total $ Range\")\n",
    "chart.set_ylabel(\"\")\n",
    "chart.set_title(\"Total Charge Feature Churn\")\n",
    "None"
   ]
  },
  {
   "cell_type": "code",
   "execution_count": 126,
   "id": "621523af",
   "metadata": {},
   "outputs": [
    {
     "data": {
      "text/plain": [
       "No     1823\n",
       "Yes    1070\n",
       "Name: Churn, dtype: int64"
      ]
     },
     "execution_count": 126,
     "metadata": {},
     "output_type": "execute_result"
    }
   ],
   "source": [
    "#0-999\n",
    "df_1 = df_range[df_range['Total Charge Range'] == '0-999']\n",
    "df_1['Churn'].value_counts()"
   ]
  },
  {
   "cell_type": "code",
   "execution_count": 127,
   "id": "0a29f495",
   "metadata": {},
   "outputs": [
    {
     "data": {
      "text/plain": [
       "No     1014\n",
       "Yes     269\n",
       "Name: Churn, dtype: int64"
      ]
     },
     "execution_count": 127,
     "metadata": {},
     "output_type": "execute_result"
    }
   ],
   "source": [
    "#1000-1999\n",
    "df_2 = df_range[df_range['Total Charge Range'] == '1000-1999']\n",
    "df_2['Churn'].value_counts()"
   ]
  },
  {
   "cell_type": "code",
   "execution_count": 128,
   "id": "628bdef5",
   "metadata": {},
   "outputs": [
    {
     "data": {
      "text/plain": [
       "No     472\n",
       "Yes    180\n",
       "Name: Churn, dtype: int64"
      ]
     },
     "execution_count": 128,
     "metadata": {},
     "output_type": "execute_result"
    }
   ],
   "source": [
    "#2000-2999\n",
    "df_3 = df_range[df_range['Total Charge Range'] == '2000-2999']\n",
    "df_3['Churn'].value_counts()"
   ]
  },
  {
   "cell_type": "code",
   "execution_count": 129,
   "id": "6ef44e7c",
   "metadata": {},
   "outputs": [
    {
     "data": {
      "text/plain": [
       "No     449\n",
       "Yes    107\n",
       "Name: Churn, dtype: int64"
      ]
     },
     "execution_count": 129,
     "metadata": {},
     "output_type": "execute_result"
    }
   ],
   "source": [
    "#3000-3999\n",
    "df_3 = df_range[df_range['Total Charge Range'] == '3000-3999']\n",
    "df_3['Churn'].value_counts()"
   ]
  },
  {
   "cell_type": "code",
   "execution_count": 130,
   "id": "bfb0653f",
   "metadata": {},
   "outputs": [
    {
     "data": {
      "text/plain": [
       "No     427\n",
       "Yes     86\n",
       "Name: Churn, dtype: int64"
      ]
     },
     "execution_count": 130,
     "metadata": {},
     "output_type": "execute_result"
    }
   ],
   "source": [
    "#4000-4999\n",
    "df_4 = df_range[df_range['Total Charge Range'] == '4000-4999']\n",
    "df_4['Churn'].value_counts()"
   ]
  },
  {
   "cell_type": "code",
   "execution_count": 131,
   "id": "4017b118",
   "metadata": {},
   "outputs": [
    {
     "data": {
      "text/plain": [
       "No     374\n",
       "Yes     69\n",
       "Name: Churn, dtype: int64"
      ]
     },
     "execution_count": 131,
     "metadata": {},
     "output_type": "execute_result"
    }
   ],
   "source": [
    "#5000-5999\n",
    "df_5 = df_range[df_range['Total Charge Range'] == '5000-5999']\n",
    "df_5['Churn'].value_counts()"
   ]
  },
  {
   "cell_type": "code",
   "execution_count": 132,
   "id": "c6aa300f",
   "metadata": {},
   "outputs": [
    {
     "data": {
      "text/plain": [
       "No     310\n",
       "Yes     55\n",
       "Name: Churn, dtype: int64"
      ]
     },
     "execution_count": 132,
     "metadata": {},
     "output_type": "execute_result"
    }
   ],
   "source": [
    "#6000-6999\n",
    "df_6 = df_range[df_range['Total Charge Range'] == '6000-6999']\n",
    "df_6['Churn'].value_counts()"
   ]
  },
  {
   "cell_type": "code",
   "execution_count": 133,
   "id": "43d35800",
   "metadata": {},
   "outputs": [
    {
     "data": {
      "text/plain": [
       "No     219\n",
       "Yes     30\n",
       "Name: Churn, dtype: int64"
      ]
     },
     "execution_count": 133,
     "metadata": {},
     "output_type": "execute_result"
    }
   ],
   "source": [
    "#7000-7999\n",
    "df_7 = df_range[df_range['Total Charge Range'] == '7000-7999']\n",
    "df_7['Churn'].value_counts()"
   ]
  },
  {
   "cell_type": "code",
   "execution_count": 134,
   "id": "0255cf17",
   "metadata": {},
   "outputs": [
    {
     "data": {
      "text/plain": [
       "No     75\n",
       "Yes     3\n",
       "Name: Churn, dtype: int64"
      ]
     },
     "execution_count": 134,
     "metadata": {},
     "output_type": "execute_result"
    }
   ],
   "source": [
    "#8000-8999\n",
    "df_8 = df_range[df_range['Total Charge Range'] == '8000-8999']\n",
    "df_8['Churn'].value_counts()"
   ]
  },
  {
   "cell_type": "code",
   "execution_count": 135,
   "id": "f5c89ba1",
   "metadata": {},
   "outputs": [
    {
     "name": "stdout",
     "output_type": "stream",
     "text": [
      "Customers with a Total Charge between 0-999$ = 9.14%\n",
      "Customers with a Total Charge between 1000-1999$ = 25.86%\n",
      "Customers with a Total Charge between 2000-2999$ = 26.16%\n",
      "Customers with a Total Charge between 3000-3999$ = 37.25%\n",
      "Customers with a Total Charge between 4000-4999$ = 28.3%\n",
      "Customers with a Total Charge between 5000-5999$ = 26.16%\n",
      "Customers with a Total Charge between 6000-6999$ = 37.25%\n",
      "Customers with a Total Charge between 7000-7999$ = 28.3%\n",
      "Customers with a Total Charge between 8000-8999$ = 28.3%\n"
     ]
    }
   ],
   "source": [
    "# Percentage Churn \n",
    "# 0-999\n",
    "ln = 1262\n",
    "ly = 127\n",
    "lt = ln + ly\n",
    "lc = round((ly/lt)*100, 2)\n",
    "print(f\"Customers with a Total Charge between 0-999$ = {lc}%\")\n",
    "# 1000-1999\n",
    "mn = 671\n",
    "my = 234\n",
    "mt = hn + hy\n",
    "mc = round((hy/ht)*100, 2)\n",
    "print(f\"Customers with a Total Charge between 1000-1999$ = {hc}%\")\n",
    "# 2000-2999\n",
    "nn = 1197\n",
    "ny = 424\n",
    "nt = nn + ny\n",
    "nc = round((ny/nt)*100, 2)\n",
    "print(f\"Customers with a Total Charge between 2000-2999$ = {nc}%\")\n",
    "# 3000-3999\n",
    "on = 1393\n",
    "oy = 827\n",
    "ot = on + oy\n",
    "oc = round((oy/ot)*100, 2)\n",
    "print(f\"Customers with a Total Charge between 3000-3999$ = {oc}%\")\n",
    "# 4000-4999\n",
    "pn = 651\n",
    "py = 257\n",
    "pt = pn + py\n",
    "pc = round((py/pt)*100, 2)\n",
    "print(f\"Customers with a Total Charge between 4000-4999$ = {pc}%\")\n",
    "# 5000-5999\n",
    "qn = 1197\n",
    "qy = 424\n",
    "qt = qn + qy\n",
    "qc = round((qy/qt)*100, 2)\n",
    "print(f\"Customers with a Total Charge between 5000-5999$ = {qc}%\")\n",
    "# 6000-6999\n",
    "rn = 1393\n",
    "ry = 827\n",
    "rt = rn + ry\n",
    "rc = round((ry/rt)*100, 2)\n",
    "print(f\"Customers with a Total Charge between 6000-6999$ = {rc}%\")\n",
    "# 7000-7999\n",
    "sn = 651\n",
    "sy = 257\n",
    "st = sn + sy\n",
    "sc = round((sy/st)*100, 2)\n",
    "print(f\"Customers with a Total Charge between 7000-7999$ = {sc}%\")\n",
    "# 8000-8999\n",
    "tn = 651\n",
    "ty = 257\n",
    "tt = tn + ty\n",
    "tc = round((ty/tt)*100, 2)\n",
    "print(f\"Customers with a Total Charge between 8000-8999$ = {tc}%\")"
   ]
  },
  {
   "cell_type": "markdown",
   "id": "cb66c7d8",
   "metadata": {},
   "source": [
    "### Analysis of the dataset"
   ]
  },
  {
   "cell_type": "markdown",
   "id": "52512c66",
   "metadata": {},
   "source": [
    "1. No null values\n",
    "2. No missing values\n",
    "3. No data which must be changed\n",
    "4. Data is clean"
   ]
  },
  {
   "cell_type": "markdown",
   "id": "45e8005f",
   "metadata": {},
   "source": [
    "### Analysis of the visuals"
   ]
  },
  {
   "cell_type": "markdown",
   "id": "fa733922",
   "metadata": {},
   "source": [
    "The visualisations above show each feature, the possible values for the features and the number of values corresponding to each customer. We can see that all but one of the features show clear changes on customer churn due to the selected values. The feature that shows very little influence on churn is gender because the customer churn is almost identical for both genders.\n",
    "\n",
    "However, ALL other features in this dataset influence whether or not a customer leaves or stays with Telco. \n",
    "\n",
    "Here is a table of the features in this dataset aloong with the option which gives the highest customer churn and the option which gives the lowest customer churn:\n",
    "\n",
    "| Feature | Highest Churn | % | Lowest Churn | % |\n",
    "| :- | :- | :-: | :- | :-: |\n",
    "| Gender | Female | 26.92% | Male | 26.16% |\n",
    "| SeniorCitizen | Senior Citizen | 41.68% | Not Senior Citizen | 23.61% |\n",
    "| Partner | Without Partners | 32.96% | With Partners | 19.66% |\n",
    "| Dependents | Without Dependents | 31.28% | With Dependents | 15.45% |\n",
    "| Tenure (range) | 0-1 Months | 47.44% | 5-6 Months | 6.61% |      \n",
    "| PhoneService | With Phone Service | 26.71% | Without Phone Service | 24.93% |  \n",
    "| MultipleLines | With Multiple Lines | 28.61% | Without Phone Service | 24.93% |\n",
    "| InternetService | With Fiber Optic | 41.89% | No Internet Service | 7.4% |\n",
    "| OnlineSecurity | With DSL | 41.77% | No Internet | 7.4% |\n",
    "| OnlineBackup | Without Online Backup | 39.93% | No Internet Service | 7.4% |\n",
    "| DeviceProtection | Without Data Protection | 39.13% | No Internet Service | 7.4% |  \n",
    "| TechSupport | Without Tech Support | 41.64% | No Internet Service | 7.4% |\n",
    "| StreamingTV | Without Streaming TV | 33.52% | No Internet Service | 7.4% |\n",
    "| StreamingMovies | Without Streaming Movie | 33.68% | No Internet Service | 7.4% |\n",
    "| Contract | Month-to-Month | 42.17% | 2 Year Contract | 2.83% |\n",
    "| PaperlessBilling | With Paperless Billing | 33.57% | Without Paperless Billing | 11.27% |\n",
    "| PaymentMethod | Electronic Check | 45.29% | Credit Card (auto) | 15.24% |\n",
    "| MonthlyCharges (range) | 75-100 | 37.25% | 0-25 | 9.14% |\n",
    "| TotalCharges (range) | 3000-3999 (tied with) 6000-6999 | 37.25% | 0-999$ | 9.14% |"
   ]
  },
  {
   "cell_type": "markdown",
   "id": "f5331360",
   "metadata": {},
   "source": [
    "### What does the table show?"
   ]
  },
  {
   "cell_type": "markdown",
   "id": "525ad24c",
   "metadata": {},
   "source": [
    "From the table above, we can see that the top 3 features that affect customer churn is:\n",
    "\n",
    "    Tenure Range: 0-1 months = 47.44%\n",
    "    Payment method: Credit card auto = 45.29%\n",
    "    Contract: month-to-month = 42.17%\n",
    "    \n",
    "    \n",
    "Possible reasons explaining why these features result in high customer churn:\n",
    "\n",
    "    The 0-1 month tenure range results in a high customer churn because; \n",
    "    - they are new customers and found better deals elsewhere, \n",
    "    - they realized they no longer needed the service and so cancelled,\n",
    "    - simply changed their mind.\n",
    "    \n",
    "    The credit card payment method results in a high customer churn due to the customers; \n",
    "    - recieving notifications about the money going out of their account and then remember about the cost and cancel \n",
    "    the service.\n",
    "      \n",
    "    The month-to-month contract results in a high customer churn because;\n",
    "    - the customer wanted to test the service and decided that it was not worth the money or no longer needed it"
   ]
  },
  {
   "cell_type": "markdown",
   "id": "4dc5f9ae",
   "metadata": {},
   "source": [
    "### What to do with these results?"
   ]
  },
  {
   "cell_type": "markdown",
   "id": "429307c9",
   "metadata": {},
   "source": [
    "From these results we can remove options for certain features like month-to-moth contracts and limit them to longer contracts so that we reduce the customer churn. Basically, we could go through each feature, one by one, and decide which feature needs changing in irder to reduce customer churn."
   ]
  },
  {
   "cell_type": "markdown",
   "id": "6cf50edc",
   "metadata": {},
   "source": [
    "### Saving the cleaned data into a csv file"
   ]
  },
  {
   "cell_type": "markdown",
   "id": "b6566038",
   "metadata": {},
   "source": [
    "I will now save this dataset as a csv file and upload it to DataRobot and use ML models to predict churn. Then I may come back to this notebook and attemot to do the same process but manually using python."
   ]
  },
  {
   "cell_type": "code",
   "execution_count": 136,
   "id": "623c7f49",
   "metadata": {},
   "outputs": [],
   "source": [
    "from pathlib import Path  \n",
    "filepath = Path(r'C:\\Users\\Liam\\Desktop\\Personal Projects\\Project 10 - Customer Churn Prediction\\clean_data.csv')  \n",
    "filepath.parent.mkdir(parents=True, exist_ok=True)  \n",
    "df.to_csv(filepath)"
   ]
  },
  {
   "cell_type": "markdown",
   "id": "102d6e25",
   "metadata": {},
   "source": [
    "### Results from DataRobot"
   ]
  },
  {
   "cell_type": "code",
   "execution_count": 137,
   "id": "19a61ba2",
   "metadata": {},
   "outputs": [],
   "source": [
    "df_feature_impact = pd.read_csv(r'C:\\Users\\Liam\\Desktop\\Personal Projects\\Project 10 - Customer Churn Prediction\\Results\\Feature Impact for Light Gradient Boosted Trees Classifier with Early Stopping using 2500 rows.csv')\n",
    "df_roc_curve = pd.read_csv(r'C:\\Users\\Liam\\Desktop\\Personal Projects\\Project 10 - Customer Churn Prediction\\Results\\Light Gradient Boosted Trees Classifier with Early Stopping (Holdout) ROC Curve.csv')\n",
    "df_variable_importance = pd.read_csv(r'C:\\Users\\Liam\\Desktop\\Personal Projects\\Project 10 - Customer Churn Prediction\\Results\\Tree-based Variable Importance for RandomForest Classifier (Gini).csv')"
   ]
  },
  {
   "cell_type": "code",
   "execution_count": 138,
   "id": "66374074",
   "metadata": {},
   "outputs": [
    {
     "data": {
      "text/html": [
       "<div>\n",
       "<style scoped>\n",
       "    .dataframe tbody tr th:only-of-type {\n",
       "        vertical-align: middle;\n",
       "    }\n",
       "\n",
       "    .dataframe tbody tr th {\n",
       "        vertical-align: top;\n",
       "    }\n",
       "\n",
       "    .dataframe thead th {\n",
       "        text-align: right;\n",
       "    }\n",
       "</style>\n",
       "<table border=\"1\" class=\"dataframe\">\n",
       "  <thead>\n",
       "    <tr style=\"text-align: right;\">\n",
       "      <th></th>\n",
       "      <th>Feature Name</th>\n",
       "      <th>Relative Importance</th>\n",
       "    </tr>\n",
       "  </thead>\n",
       "  <tbody>\n",
       "    <tr>\n",
       "      <th>0</th>\n",
       "      <td>tenure</td>\n",
       "      <td>1.000000</td>\n",
       "    </tr>\n",
       "    <tr>\n",
       "      <th>1</th>\n",
       "      <td>Contract</td>\n",
       "      <td>0.273386</td>\n",
       "    </tr>\n",
       "    <tr>\n",
       "      <th>2</th>\n",
       "      <td>InternetService</td>\n",
       "      <td>0.246818</td>\n",
       "    </tr>\n",
       "    <tr>\n",
       "      <th>3</th>\n",
       "      <td>MonthlyCharges</td>\n",
       "      <td>0.149713</td>\n",
       "    </tr>\n",
       "    <tr>\n",
       "      <th>4</th>\n",
       "      <td>OnlineSecurity</td>\n",
       "      <td>0.081979</td>\n",
       "    </tr>\n",
       "    <tr>\n",
       "      <th>5</th>\n",
       "      <td>TechSupport</td>\n",
       "      <td>0.046820</td>\n",
       "    </tr>\n",
       "    <tr>\n",
       "      <th>6</th>\n",
       "      <td>TotalCharges</td>\n",
       "      <td>0.046664</td>\n",
       "    </tr>\n",
       "    <tr>\n",
       "      <th>7</th>\n",
       "      <td>PaymentMethod</td>\n",
       "      <td>0.043666</td>\n",
       "    </tr>\n",
       "    <tr>\n",
       "      <th>8</th>\n",
       "      <td>MultipleLines</td>\n",
       "      <td>0.037536</td>\n",
       "    </tr>\n",
       "    <tr>\n",
       "      <th>9</th>\n",
       "      <td>PaperlessBilling</td>\n",
       "      <td>0.035199</td>\n",
       "    </tr>\n",
       "    <tr>\n",
       "      <th>10</th>\n",
       "      <td>SeniorCitizen</td>\n",
       "      <td>0.007907</td>\n",
       "    </tr>\n",
       "    <tr>\n",
       "      <th>11</th>\n",
       "      <td>OnlineBackup</td>\n",
       "      <td>0.007656</td>\n",
       "    </tr>\n",
       "    <tr>\n",
       "      <th>12</th>\n",
       "      <td>StreamingMovies</td>\n",
       "      <td>0.006018</td>\n",
       "    </tr>\n",
       "    <tr>\n",
       "      <th>13</th>\n",
       "      <td>Dependents</td>\n",
       "      <td>0.001970</td>\n",
       "    </tr>\n",
       "    <tr>\n",
       "      <th>14</th>\n",
       "      <td>PhoneService</td>\n",
       "      <td>0.001388</td>\n",
       "    </tr>\n",
       "    <tr>\n",
       "      <th>15</th>\n",
       "      <td>DeviceProtection</td>\n",
       "      <td>0.000000</td>\n",
       "    </tr>\n",
       "    <tr>\n",
       "      <th>16</th>\n",
       "      <td>Partner</td>\n",
       "      <td>0.000000</td>\n",
       "    </tr>\n",
       "    <tr>\n",
       "      <th>17</th>\n",
       "      <td>gender</td>\n",
       "      <td>0.000000</td>\n",
       "    </tr>\n",
       "    <tr>\n",
       "      <th>18</th>\n",
       "      <td>StreamingTV</td>\n",
       "      <td>-0.000576</td>\n",
       "    </tr>\n",
       "  </tbody>\n",
       "</table>\n",
       "</div>"
      ],
      "text/plain": [
       "        Feature Name  Relative Importance\n",
       "0             tenure             1.000000\n",
       "1           Contract             0.273386\n",
       "2    InternetService             0.246818\n",
       "3     MonthlyCharges             0.149713\n",
       "4     OnlineSecurity             0.081979\n",
       "5        TechSupport             0.046820\n",
       "6       TotalCharges             0.046664\n",
       "7      PaymentMethod             0.043666\n",
       "8      MultipleLines             0.037536\n",
       "9   PaperlessBilling             0.035199\n",
       "10     SeniorCitizen             0.007907\n",
       "11      OnlineBackup             0.007656\n",
       "12   StreamingMovies             0.006018\n",
       "13        Dependents             0.001970\n",
       "14      PhoneService             0.001388\n",
       "15  DeviceProtection             0.000000\n",
       "16           Partner             0.000000\n",
       "17            gender             0.000000\n",
       "18       StreamingTV            -0.000576"
      ]
     },
     "execution_count": 138,
     "metadata": {},
     "output_type": "execute_result"
    }
   ],
   "source": [
    "df_feature_impact"
   ]
  },
  {
   "cell_type": "code",
   "execution_count": 139,
   "id": "fa0d672d",
   "metadata": {},
   "outputs": [
    {
     "data": {
      "image/png": "[encoded data removed]",
      "text/plain": [
       "<Figure size 432x288 with 1 Axes>"
      ]
     },
     "metadata": {},
     "output_type": "display_data"
    }
   ],
   "source": [
    "y = df_feature_impact['Feature Name']\n",
    "x = df_feature_impact['Relative Importance']\n",
    "ax = sns.barplot(x=x, y=y, data=df_feature_impact).set(title='Feature Impact on Churn')\n",
    "plt.ylabel(\"Feature\")\n",
    "plt.xlabel(\"Relative Importance\")\n",
    "None"
   ]
  },
  {
   "cell_type": "markdown",
   "id": "51082e8c",
   "metadata": {},
   "source": [
    "##### Feature Impact = View the impact of each feature in the feature list by measuring how shuffling a feature affects the model's predictive accuracy."
   ]
  },
  {
   "cell_type": "code",
   "execution_count": 140,
   "id": "ddbb71f2",
   "metadata": {},
   "outputs": [
    {
     "data": {
      "text/html": [
       "<div>\n",
       "<style scoped>\n",
       "    .dataframe tbody tr th:only-of-type {\n",
       "        vertical-align: middle;\n",
       "    }\n",
       "\n",
       "    .dataframe tbody tr th {\n",
       "        vertical-align: top;\n",
       "    }\n",
       "\n",
       "    .dataframe thead th {\n",
       "        text-align: right;\n",
       "    }\n",
       "</style>\n",
       "<table border=\"1\" class=\"dataframe\">\n",
       "  <thead>\n",
       "    <tr style=\"text-align: right;\">\n",
       "      <th></th>\n",
       "      <th>Value</th>\n",
       "      <th>Count</th>\n",
       "    </tr>\n",
       "  </thead>\n",
       "  <tbody>\n",
       "    <tr>\n",
       "      <th>0</th>\n",
       "      <td>Contract</td>\n",
       "      <td>1.000000</td>\n",
       "    </tr>\n",
       "    <tr>\n",
       "      <th>1</th>\n",
       "      <td>tenure</td>\n",
       "      <td>0.811210</td>\n",
       "    </tr>\n",
       "    <tr>\n",
       "      <th>2</th>\n",
       "      <td>TotalCharges</td>\n",
       "      <td>0.600593</td>\n",
       "    </tr>\n",
       "    <tr>\n",
       "      <th>3</th>\n",
       "      <td>MonthlyCharges</td>\n",
       "      <td>0.510815</td>\n",
       "    </tr>\n",
       "    <tr>\n",
       "      <th>4</th>\n",
       "      <td>TechSupport</td>\n",
       "      <td>0.465323</td>\n",
       "    </tr>\n",
       "    <tr>\n",
       "      <th>5</th>\n",
       "      <td>OnlineSecurity</td>\n",
       "      <td>0.443149</td>\n",
       "    </tr>\n",
       "    <tr>\n",
       "      <th>6</th>\n",
       "      <td>InternetService</td>\n",
       "      <td>0.324714</td>\n",
       "    </tr>\n",
       "    <tr>\n",
       "      <th>7</th>\n",
       "      <td>OnlineBackup</td>\n",
       "      <td>0.178128</td>\n",
       "    </tr>\n",
       "    <tr>\n",
       "      <th>8</th>\n",
       "      <td>PaymentMethod</td>\n",
       "      <td>0.157654</td>\n",
       "    </tr>\n",
       "    <tr>\n",
       "      <th>9</th>\n",
       "      <td>DeviceProtection</td>\n",
       "      <td>0.116056</td>\n",
       "    </tr>\n",
       "    <tr>\n",
       "      <th>10</th>\n",
       "      <td>MultipleLines</td>\n",
       "      <td>0.060209</td>\n",
       "    </tr>\n",
       "    <tr>\n",
       "      <th>11</th>\n",
       "      <td>PaperlessBilling</td>\n",
       "      <td>0.059588</td>\n",
       "    </tr>\n",
       "    <tr>\n",
       "      <th>12</th>\n",
       "      <td>StreamingMovies</td>\n",
       "      <td>0.044369</td>\n",
       "    </tr>\n",
       "    <tr>\n",
       "      <th>13</th>\n",
       "      <td>SeniorCitizen</td>\n",
       "      <td>0.041589</td>\n",
       "    </tr>\n",
       "    <tr>\n",
       "      <th>14</th>\n",
       "      <td>StreamingTV</td>\n",
       "      <td>0.034262</td>\n",
       "    </tr>\n",
       "    <tr>\n",
       "      <th>15</th>\n",
       "      <td>gender</td>\n",
       "      <td>0.025701</td>\n",
       "    </tr>\n",
       "    <tr>\n",
       "      <th>16</th>\n",
       "      <td>Partner</td>\n",
       "      <td>0.020895</td>\n",
       "    </tr>\n",
       "    <tr>\n",
       "      <th>17</th>\n",
       "      <td>Dependents</td>\n",
       "      <td>0.020389</td>\n",
       "    </tr>\n",
       "    <tr>\n",
       "      <th>18</th>\n",
       "      <td>PhoneService</td>\n",
       "      <td>0.019434</td>\n",
       "    </tr>\n",
       "  </tbody>\n",
       "</table>\n",
       "</div>"
      ],
      "text/plain": [
       "               Value     Count\n",
       "0           Contract  1.000000\n",
       "1             tenure  0.811210\n",
       "2       TotalCharges  0.600593\n",
       "3     MonthlyCharges  0.510815\n",
       "4        TechSupport  0.465323\n",
       "5     OnlineSecurity  0.443149\n",
       "6    InternetService  0.324714\n",
       "7       OnlineBackup  0.178128\n",
       "8      PaymentMethod  0.157654\n",
       "9   DeviceProtection  0.116056\n",
       "10     MultipleLines  0.060209\n",
       "11  PaperlessBilling  0.059588\n",
       "12   StreamingMovies  0.044369\n",
       "13     SeniorCitizen  0.041589\n",
       "14       StreamingTV  0.034262\n",
       "15            gender  0.025701\n",
       "16           Partner  0.020895\n",
       "17        Dependents  0.020389\n",
       "18      PhoneService  0.019434"
      ]
     },
     "execution_count": 140,
     "metadata": {},
     "output_type": "execute_result"
    }
   ],
   "source": [
    "df_variable_importance"
   ]
  },
  {
   "cell_type": "code",
   "execution_count": 141,
   "id": "a1f34f18",
   "metadata": {},
   "outputs": [
    {
     "data": {
      "image/png": "[encoded data removed]",
      "text/plain": [
       "<Figure size 432x288 with 1 Axes>"
      ]
     },
     "metadata": {},
     "output_type": "display_data"
    }
   ],
   "source": [
    "x = df_variable_importance['Count']\n",
    "y = df_variable_importance['Value']\n",
    "ax = sns.barplot(x=x, y=y, data=df_variable_importance).set(title='Tree-Based Variable Importance')\n",
    "plt.xlabel(\"\")\n",
    "plt.ylabel(\"Variable\")\n",
    "None"
   ]
  },
  {
   "cell_type": "markdown",
   "id": "4e8bf2e0",
   "metadata": {},
   "source": [
    "##### Tree-Based Variable Importance = For tree/forrest based models, illustrates the relevancy of different variables on the prediction."
   ]
  },
  {
   "cell_type": "code",
   "execution_count": 142,
   "id": "812f17bd",
   "metadata": {},
   "outputs": [
    {
     "data": {
      "text/html": [
       "<div>\n",
       "<style scoped>\n",
       "    .dataframe tbody tr th:only-of-type {\n",
       "        vertical-align: middle;\n",
       "    }\n",
       "\n",
       "    .dataframe tbody tr th {\n",
       "        vertical-align: top;\n",
       "    }\n",
       "\n",
       "    .dataframe thead th {\n",
       "        text-align: right;\n",
       "    }\n",
       "</style>\n",
       "<table border=\"1\" class=\"dataframe\">\n",
       "  <thead>\n",
       "    <tr style=\"text-align: right;\">\n",
       "      <th></th>\n",
       "      <th>Accuracy</th>\n",
       "      <th>F1</th>\n",
       "      <th>False Negative Scores</th>\n",
       "      <th>True Negative Scores</th>\n",
       "      <th>True Negative Rates</th>\n",
       "      <th>True Positive Scores</th>\n",
       "      <th>Positive Predictive Values</th>\n",
       "      <th>False Positive Scores</th>\n",
       "      <th>False Positive Rates</th>\n",
       "      <th>Negative Predictive Values</th>\n",
       "      <th>True Positive Rates</th>\n",
       "      <th>Matthews Correlation Coefficient</th>\n",
       "      <th>Threshold</th>\n",
       "      <th>Fraction Predicted As Positive</th>\n",
       "      <th>Fraction Predicted As Negative</th>\n",
       "      <th>Lift For Positive Class</th>\n",
       "      <th>Lift For Negative Class</th>\n",
       "    </tr>\n",
       "  </thead>\n",
       "  <tbody>\n",
       "    <tr>\n",
       "      <th>0</th>\n",
       "      <td>0.734375</td>\n",
       "      <td>0.000000</td>\n",
       "      <td>374.0</td>\n",
       "      <td>1034.0</td>\n",
       "      <td>1.0</td>\n",
       "      <td>0.0</td>\n",
       "      <td>0.0</td>\n",
       "      <td>0.0</td>\n",
       "      <td>0.0</td>\n",
       "      <td>0.734375</td>\n",
       "      <td>0.000000</td>\n",
       "      <td>0.000000</td>\n",
       "      <td>1.000000</td>\n",
       "      <td>0.000000</td>\n",
       "      <td>1.000000</td>\n",
       "      <td>0.000000</td>\n",
       "      <td>1.000000</td>\n",
       "    </tr>\n",
       "    <tr>\n",
       "      <th>1</th>\n",
       "      <td>0.735795</td>\n",
       "      <td>0.010638</td>\n",
       "      <td>372.0</td>\n",
       "      <td>1034.0</td>\n",
       "      <td>1.0</td>\n",
       "      <td>2.0</td>\n",
       "      <td>1.0</td>\n",
       "      <td>0.0</td>\n",
       "      <td>0.0</td>\n",
       "      <td>0.735420</td>\n",
       "      <td>0.005348</td>\n",
       "      <td>0.062711</td>\n",
       "      <td>0.880202</td>\n",
       "      <td>0.001420</td>\n",
       "      <td>0.998580</td>\n",
       "      <td>3.764706</td>\n",
       "      <td>1.001422</td>\n",
       "    </tr>\n",
       "    <tr>\n",
       "      <th>2</th>\n",
       "      <td>0.738636</td>\n",
       "      <td>0.031579</td>\n",
       "      <td>368.0</td>\n",
       "      <td>1034.0</td>\n",
       "      <td>1.0</td>\n",
       "      <td>6.0</td>\n",
       "      <td>1.0</td>\n",
       "      <td>0.0</td>\n",
       "      <td>0.0</td>\n",
       "      <td>0.737518</td>\n",
       "      <td>0.016043</td>\n",
       "      <td>0.108774</td>\n",
       "      <td>0.870361</td>\n",
       "      <td>0.004261</td>\n",
       "      <td>0.995739</td>\n",
       "      <td>3.764706</td>\n",
       "      <td>1.004280</td>\n",
       "    </tr>\n",
       "    <tr>\n",
       "      <th>3</th>\n",
       "      <td>0.743608</td>\n",
       "      <td>0.067183</td>\n",
       "      <td>361.0</td>\n",
       "      <td>1034.0</td>\n",
       "      <td>1.0</td>\n",
       "      <td>13.0</td>\n",
       "      <td>1.0</td>\n",
       "      <td>0.0</td>\n",
       "      <td>0.0</td>\n",
       "      <td>0.741219</td>\n",
       "      <td>0.034759</td>\n",
       "      <td>0.160513</td>\n",
       "      <td>0.848570</td>\n",
       "      <td>0.009233</td>\n",
       "      <td>0.990767</td>\n",
       "      <td>3.764706</td>\n",
       "      <td>1.009319</td>\n",
       "    </tr>\n",
       "    <tr>\n",
       "      <th>4</th>\n",
       "      <td>0.752841</td>\n",
       "      <td>0.130000</td>\n",
       "      <td>348.0</td>\n",
       "      <td>1034.0</td>\n",
       "      <td>1.0</td>\n",
       "      <td>26.0</td>\n",
       "      <td>1.0</td>\n",
       "      <td>0.0</td>\n",
       "      <td>0.0</td>\n",
       "      <td>0.748191</td>\n",
       "      <td>0.069519</td>\n",
       "      <td>0.228064</td>\n",
       "      <td>0.814352</td>\n",
       "      <td>0.018466</td>\n",
       "      <td>0.981534</td>\n",
       "      <td>3.764706</td>\n",
       "      <td>1.018813</td>\n",
       "    </tr>\n",
       "  </tbody>\n",
       "</table>\n",
       "</div>"
      ],
      "text/plain": [
       "   Accuracy        F1  False Negative Scores  True Negative Scores  \\\n",
       "0  0.734375  0.000000                  374.0                1034.0   \n",
       "1  0.735795  0.010638                  372.0                1034.0   \n",
       "2  0.738636  0.031579                  368.0                1034.0   \n",
       "3  0.743608  0.067183                  361.0                1034.0   \n",
       "4  0.752841  0.130000                  348.0                1034.0   \n",
       "\n",
       "   True Negative Rates  True Positive Scores  Positive Predictive Values  \\\n",
       "0                  1.0                   0.0                         0.0   \n",
       "1                  1.0                   2.0                         1.0   \n",
       "2                  1.0                   6.0                         1.0   \n",
       "3                  1.0                  13.0                         1.0   \n",
       "4                  1.0                  26.0                         1.0   \n",
       "\n",
       "   False Positive Scores  False Positive Rates  Negative Predictive Values  \\\n",
       "0                    0.0                   0.0                    0.734375   \n",
       "1                    0.0                   0.0                    0.735420   \n",
       "2                    0.0                   0.0                    0.737518   \n",
       "3                    0.0                   0.0                    0.741219   \n",
       "4                    0.0                   0.0                    0.748191   \n",
       "\n",
       "   True Positive Rates  Matthews Correlation Coefficient  Threshold  \\\n",
       "0             0.000000                          0.000000   1.000000   \n",
       "1             0.005348                          0.062711   0.880202   \n",
       "2             0.016043                          0.108774   0.870361   \n",
       "3             0.034759                          0.160513   0.848570   \n",
       "4             0.069519                          0.228064   0.814352   \n",
       "\n",
       "   Fraction Predicted As Positive  Fraction Predicted As Negative  \\\n",
       "0                        0.000000                        1.000000   \n",
       "1                        0.001420                        0.998580   \n",
       "2                        0.004261                        0.995739   \n",
       "3                        0.009233                        0.990767   \n",
       "4                        0.018466                        0.981534   \n",
       "\n",
       "   Lift For Positive Class  Lift For Negative Class  \n",
       "0                 0.000000                 1.000000  \n",
       "1                 3.764706                 1.001422  \n",
       "2                 3.764706                 1.004280  \n",
       "3                 3.764706                 1.009319  \n",
       "4                 3.764706                 1.018813  "
      ]
     },
     "execution_count": 142,
     "metadata": {},
     "output_type": "execute_result"
    }
   ],
   "source": [
    "df_roc_curve.head()"
   ]
  },
  {
   "cell_type": "code",
   "execution_count": 143,
   "id": "be2c7799",
   "metadata": {},
   "outputs": [
    {
     "data": {
      "image/png": "[encoded data removed]",
      "text/plain": [
       "<Figure size 432x288 with 1 Axes>"
      ]
     },
     "metadata": {},
     "output_type": "display_data"
    }
   ],
   "source": [
    "y = df_roc_curve['True Positive Rates']\n",
    "x = df_roc_curve['False Positive Rates']\n",
    "plt.plot(x,y)\n",
    "ident = [0.0, 1.0]\n",
    "plt.plot(ident,ident)\n",
    "plt.ylabel('True Positive Rates')\n",
    "plt.xlabel('False Positive Rates')\n",
    "plt.title('ROC Curve')\n",
    "plt.show()"
   ]
  },
  {
   "cell_type": "markdown",
   "id": "24c3b9ea",
   "metadata": {},
   "source": [
    "##### ROC Curve = A set of interactive displays that provide a snapshot of the model’s classification power."
   ]
  },
  {
   "cell_type": "markdown",
   "id": "f2d8aa52",
   "metadata": {},
   "source": [
    "### Analysis of the results from DataRobot"
   ]
  },
  {
   "cell_type": "markdown",
   "id": "fded4a76",
   "metadata": {},
   "source": [
    "From the plot of feature impact on churn, Datarobot has tenure, contract and internet service as the top 3 features that impact customer churn. Comparing that with the analysis of the visuals previous, we almost reached the same conclusion except that the visuals showed credit card payment method and not internet services. This could be due to the summation of all internet fetures completed by DataRobot but would need to be investigated further."
   ]
  },
  {
   "cell_type": "markdown",
   "id": "1c0e92e7",
   "metadata": {},
   "source": [
    "### Further Work"
   ]
  },
  {
   "cell_type": "markdown",
   "id": "a643a8f1",
   "metadata": {},
   "source": [
    "Create a function that pulls the data from the df and stores the important calculations so that the calculations and reports can be updated easily and automatically whenever the df changes.\n",
    "\n",
    "We could deploy and predict the model on new, unseen data to make predictions based on additional features.\n",
    "\n",
    "We could try other ml models and compare the predicitons made."
   ]
  },
  {
   "cell_type": "code",
   "execution_count": null,
   "id": "9025422e",
   "metadata": {},
   "outputs": [],
   "source": []
  }
 ],
 "metadata": {
  "kernelspec": {
   "display_name": "Python 3 (ipykernel)",
   "language": "python",
   "name": "python3"
  },
  "language_info": {
   "codemirror_mode": {
    "name": "ipython",
    "version": 3
   },
   "file_extension": ".py",
   "mimetype": "text/x-python",
   "name": "python",
   "nbconvert_exporter": "python",
   "pygments_lexer": "ipython3",
   "version": "3.9.12"
  }
 },
 "nbformat": 4,
 "nbformat_minor": 5
}
